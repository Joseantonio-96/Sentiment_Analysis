{
 "metadata": {
  "language_info": {
   "codemirror_mode": {
    "name": "ipython",
    "version": 3
   },
   "file_extension": ".py",
   "mimetype": "text/x-python",
   "name": "python",
   "nbconvert_exporter": "python",
   "pygments_lexer": "ipython3",
   "version": "3.7.4"
  },
  "orig_nbformat": 2,
  "kernelspec": {
   "name": "python374jvsc74a57bd0dca0ade3e726a953b501b15e8e990130d2b7799f14cfd9f4271676035ebe5511",
   "display_name": "Python 3.7.4 64-bit ('base': conda)"
  }
 },
 "nbformat": 4,
 "nbformat_minor": 2,
 "cells": [
  {
   "source": [
    "# Deep Learning methods: BERT model \n",
    "\n",
    "## Jose Antonio Jijon Vorbeck\n",
    "\n",
    "In this notebook, we will apply a BERT model to the tweets data set to perform a sentiment analysis. \n",
    "\n",
    "We will compare the results obtained from this model to those obtained using classical ML models."
   ],
   "cell_type": "markdown",
   "metadata": {}
  },
  {
   "source": [
    "[BERT - Kaggle](https://www.kaggle.com/nayansakhiya/text-classification-using-bert)"
   ],
   "cell_type": "markdown",
   "metadata": {}
  },
  {
   "cell_type": "code",
   "execution_count": null,
   "metadata": {},
   "outputs": [],
   "source": []
  }
 ]
}