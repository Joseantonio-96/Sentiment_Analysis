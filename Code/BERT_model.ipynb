{
 "metadata": {
  "language_info": {
   "codemirror_mode": {
    "name": "ipython",
    "version": 3
   },
   "file_extension": ".py",
   "mimetype": "text/x-python",
   "name": "python",
   "nbconvert_exporter": "python",
   "pygments_lexer": "ipython3",
   "version": 3
  },
  "orig_nbformat": 2
 },
 "nbformat": 4,
 "nbformat_minor": 2,
 "cells": [
  {
   "source": [
    "# Deep Learning methods: BERT model \n",
    "\n",
    "## Jose Antonio Jijon Vorbeck\n",
    "\n",
    "In this notebook, we will apply a BERT model to the tweets data set to perform a sentiment analysis. \n",
    "\n",
    "We will compare the results obtained from this model to those obtained using classical ML models."
   ],
   "cell_type": "markdown",
   "metadata": {}
  },
  {
   "source": [
    "[BERT - Kaggle](https://www.kaggle.com/nayansakhiya/text-classification-using-bert)"
   ],
   "cell_type": "markdown",
   "metadata": {}
  },
  {
   "cell_type": "code",
   "execution_count": null,
   "metadata": {},
   "outputs": [],
   "source": []
  }
 ]
}