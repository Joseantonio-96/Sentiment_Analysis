{
 "metadata": {
  "language_info": {
   "codemirror_mode": {
    "name": "ipython",
    "version": 3
   },
   "file_extension": ".py",
   "mimetype": "text/x-python",
   "name": "python",
   "nbconvert_exporter": "python",
   "pygments_lexer": "ipython3",
   "version": "3.7.4"
  },
  "orig_nbformat": 2,
  "kernelspec": {
   "name": "python374jvsc74a57bd0dca0ade3e726a953b501b15e8e990130d2b7799f14cfd9f4271676035ebe5511",
   "display_name": "Python 3.7.4 64-bit ('base': conda)"
  }
 },
 "nbformat": 4,
 "nbformat_minor": 2,
 "cells": [
  {
   "source": [
    "# Text Classification using SciKit Learn\n",
    "\n",
    "We will use the cleaned version of the covid tweets `TweetC_train.csv` and `TweetC_test.csv` to fit and test classic Machine Learning models."
   ],
   "cell_type": "markdown",
   "metadata": {}
  },
  {
   "cell_type": "code",
   "execution_count": 34,
   "metadata": {},
   "outputs": [],
   "source": [
    "import numpy as np\n",
    "import pandas as pd\n",
    "import matplotlib.pyplot as plt\n",
    "import math\n",
    "from tqdm import tqdm\n",
    "\n",
    "import nltk\n",
    "from nltk.corpus import stopwords\n",
    "from nltk.tokenize import word_tokenize \n",
    "from nltk.stem import PorterStemmer\n",
    "from nltk.stem import WordNetLemmatizer\n",
    "\n",
    "from sklearn.feature_extraction.text import TfidfVectorizer, CountVectorizer\n",
    "from sklearn.feature_selection import chi2\n",
    "from sklearn.model_selection import GridSearchCV, RandomizedSearchCV, KFold\n",
    "\n",
    "from sklearn.metrics import confusion_matrix, accuracy_score, classification_report\n",
    "from sklearn.neighbors import KNeighborsClassifier\n",
    "\n",
    "from sklearn.naive_bayes import GaussianNB, MultinomialNB\n",
    "from sklearn.decomposition import PCA, KernelPCA\n",
    "from sklearn.pipeline import Pipeline\n",
    "from sklearn.svm import SVC, LinearSVC\n",
    "from sklearn.linear_model import LogisticRegression\n",
    "from sklearn.ensemble import RandomForestClassifier\n",
    "from sklearn.discriminant_analysis import LinearDiscriminantAnalysis as LDA\n",
    "from sklearn.model_selection import cross_val_score\n",
    "\n",
    "import warnings\n",
    "warnings.filterwarnings(\"ignore\")\n",
    "\n",
    "import optuna\n",
    "import xgboost as xgb\n",
    "import seaborn as sns\n"
   ]
  },
  {
   "cell_type": "code",
   "execution_count": 2,
   "metadata": {},
   "outputs": [
    {
     "output_type": "stream",
     "name": "stdout",
     "text": [
      "Training obs: 41156, and testing obs: 3798\n"
     ]
    }
   ],
   "source": [
    "train_data = pd.read_csv('Data/TweetC_train.csv')\n",
    "test_data = pd.read_csv('Data/TweetC_test.csv')\n",
    "print(f'Training obs: {train_data.shape[0]}, and testing obs: {test_data.shape[0]}')"
   ]
  },
  {
   "cell_type": "code",
   "execution_count": 3,
   "metadata": {},
   "outputs": [
    {
     "output_type": "execute_result",
     "data": {
      "text/plain": [
       "                                              Corpus  label\n",
       "0  advice talk neighbour family exchange phone nu...      4\n",
       "1  coronavirus australia woolworth elderly disabl...      4\n",
       "2     food stock panic food need stay calm stay safe      4\n",
       "3  ready supermarket outbreak paranoid food stock...      0\n",
       "4  news regionâs confirmed covid case came sulli...      4"
      ],
      "text/html": "<div>\n<style scoped>\n    .dataframe tbody tr th:only-of-type {\n        vertical-align: middle;\n    }\n\n    .dataframe tbody tr th {\n        vertical-align: top;\n    }\n\n    .dataframe thead th {\n        text-align: right;\n    }\n</style>\n<table border=\"1\" class=\"dataframe\">\n  <thead>\n    <tr style=\"text-align: right;\">\n      <th></th>\n      <th>Corpus</th>\n      <th>label</th>\n    </tr>\n  </thead>\n  <tbody>\n    <tr>\n      <td>0</td>\n      <td>advice talk neighbour family exchange phone nu...</td>\n      <td>4</td>\n    </tr>\n    <tr>\n      <td>1</td>\n      <td>coronavirus australia woolworth elderly disabl...</td>\n      <td>4</td>\n    </tr>\n    <tr>\n      <td>2</td>\n      <td>food stock panic food need stay calm stay safe</td>\n      <td>4</td>\n    </tr>\n    <tr>\n      <td>3</td>\n      <td>ready supermarket outbreak paranoid food stock...</td>\n      <td>0</td>\n    </tr>\n    <tr>\n      <td>4</td>\n      <td>news regionâs confirmed covid case came sulli...</td>\n      <td>4</td>\n    </tr>\n  </tbody>\n</table>\n</div>"
     },
     "metadata": {},
     "execution_count": 3
    }
   ],
   "source": [
    "train_data.head()"
   ]
  },
  {
   "cell_type": "code",
   "execution_count": 4,
   "metadata": {},
   "outputs": [],
   "source": [
    "# dropping indexes with nan\n",
    "\n",
    "# training set\n",
    "index_with_nan = train_data.index[train_data.isnull().any(axis=1)]\n",
    "train_data.drop(index_with_nan,0, inplace=True)\n",
    "\n",
    "# testing set\n",
    "index_with_nan = test_data.index[test_data.isnull().any(axis=1)]\n",
    "test_data.drop(index_with_nan,0, inplace=True)"
   ]
  },
  {
   "cell_type": "code",
   "execution_count": 5,
   "metadata": {},
   "outputs": [
    {
     "output_type": "execute_result",
     "data": {
      "text/plain": [
       "(Corpus    0\n",
       " label     0\n",
       " dtype: int64, Corpus    0\n",
       " label     0\n",
       " dtype: int64)"
      ]
     },
     "metadata": {},
     "execution_count": 5
    }
   ],
   "source": [
    "# we have no nans left\n",
    "pd.isna(train_data).sum(), pd.isna(test_data).sum()"
   ]
  },
  {
   "cell_type": "code",
   "execution_count": 6,
   "metadata": {},
   "outputs": [],
   "source": [
    "# split text and labels\n",
    "\n",
    "# text\n",
    "text_train = train_data.iloc[:,0].copy().to_numpy()\n",
    "text_test = test_data.iloc[:,0].copy().to_numpy()\n",
    "\n",
    "# labels\n",
    "y_train = train_data.iloc[:,1].copy().to_numpy()\n",
    "y_test = test_data.iloc[:,1].copy().to_numpy()\n",
    "\n",
    "y_train = y_train.astype('int')\n",
    "y_test = y_test.astype('int')"
   ]
  },
  {
   "source": [
    "We have already cleaned and removed all tweetws related signs that are not good for the analysis. We see that we have stayed only with the text and the sentiment class in an encoded version. \n",
    "\n",
    "`Extremely Negative`: 0\n",
    "\n",
    "`Extremely Positive`: 1\n",
    "\n",
    "`Negative`: 2\n",
    "\n",
    "`Neutral`: 3\n",
    "\n",
    "`Positive`: 4"
   ],
   "cell_type": "markdown",
   "metadata": {}
  },
  {
   "source": [
    "## Apply vectorization with the `tf-idf` method provided from sklearn "
   ],
   "cell_type": "markdown",
   "metadata": {}
  },
  {
   "cell_type": "code",
   "execution_count": 7,
   "metadata": {},
   "outputs": [],
   "source": [
    "# assigning the class to tfidf\n",
    "tfidf = TfidfVectorizer(max_features=4000, max_df=0.8, sublinear_tf=True, min_df=10, norm='l2', encoding='latin-1', ngram_range=(1, 3), stop_words='english')\n",
    "\n",
    "# applying the vectorizer to the training data\n",
    "X_train = tfidf.fit_transform(text_train).toarray()\n",
    "X_test = tfidf.transform(text_test).toarray()"
   ]
  },
  {
   "cell_type": "code",
   "execution_count": 8,
   "metadata": {},
   "outputs": [
    {
     "output_type": "execute_result",
     "data": {
      "text/plain": [
       "((41087, 4000), (3795, 4000))"
      ]
     },
     "metadata": {},
     "execution_count": 8
    }
   ],
   "source": [
    "X_train.shape, X_test.shape"
   ]
  },
  {
   "source": [
    "We can see that after applying the vectorization provided from sklearn `tf-idf`, we have created a matrix with 13484 columns, representing each word present in the documents. This is a very sparse matrix for both the train and test documents. "
   ],
   "cell_type": "markdown",
   "metadata": {}
  },
  {
   "source": [
    "## Optimizing number of max features to consider in TF-IDF vectorization\n"
   ],
   "cell_type": "markdown",
   "metadata": {}
  },
  {
   "cell_type": "code",
   "execution_count": 9,
   "metadata": {},
   "outputs": [
    {
     "output_type": "stream",
     "name": "stderr",
     "text": [
      "100%|██████████| 30/30 [03:52<00:00,  7.74s/it]\n"
     ]
    }
   ],
   "source": [
    "# calculating the optimal number of max features to consider:\n",
    "\n",
    "accs = {k:0 for k in range(500, 8000, 250)}\n",
    "for f in tqdm(range(500, 8000, 250)):\n",
    "\n",
    "    # assigning the class to tfidf\n",
    "    tfidf = TfidfVectorizer(max_features=f, max_df=0.8, sublinear_tf=True, min_df=10, norm='l2',             encoding='latin-1', ngram_range=(1, 3), stop_words='english')\n",
    "\n",
    "    # applying the vectorizer to the training data\n",
    "    X_train = tfidf.fit_transform(text_train).toarray()\n",
    "\n",
    "    X_test = tfidf.transform(text_test).toarray()\n",
    "\n",
    "    svm_model = LinearSVC(C=0.1)\n",
    "    svm_model.fit(X_train, y_train)\n",
    "\n",
    "    accs[f] = svm_model.score(X_test, y_test)\n"
   ]
  },
  {
   "cell_type": "code",
   "execution_count": 10,
   "metadata": {},
   "outputs": [
    {
     "output_type": "execute_result",
     "data": {
      "text/plain": [
       "(3000, 0.5322793148880105)"
      ]
     },
     "metadata": {},
     "execution_count": 10
    }
   ],
   "source": [
    "# features and max value\n",
    "max(accs, key=accs.get), accs[max(accs, key=accs.get)]"
   ]
  },
  {
   "source": [
    "## Appliying the vectorization with that max. number of features"
   ],
   "cell_type": "markdown",
   "metadata": {}
  },
  {
   "cell_type": "code",
   "execution_count": 9,
   "metadata": {},
   "outputs": [],
   "source": [
    "max_features = 3000 # max(accs, key=accs.get)\n",
    "tfidf = TfidfVectorizer(max_features=max_features, max_df=0.8, sublinear_tf=True, min_df=10, norm='l2', encoding='latin-1', ngram_range=(1, 3), stop_words='english')\n",
    "\n",
    "# applying the vectorizer to the training data\n",
    "X_train = tfidf.fit_transform(text_train).toarray()\n",
    "X_test = tfidf.transform(text_test).toarray()"
   ]
  },
  {
   "source": [
    "We will use the chi2 function from sklearn to get the most common words per category."
   ],
   "cell_type": "markdown",
   "metadata": {}
  },
  {
   "cell_type": "code",
   "execution_count": 10,
   "metadata": {},
   "outputs": [],
   "source": [
    "labels = {'Extremely Negative': 0,\n",
    "          'Extremely Positive': 1,\n",
    "          'Negative': 2,\n",
    "          'Neutral': 3,\n",
    "          'Positive': 4}"
   ]
  },
  {
   "source": [
    "N = 2\n",
    "for category, id in labels.items():\n",
    "    features_chi2 = chi2(X_train, y_train == id)\n",
    "    indices = np.argsort(features_chi2[0])\n",
    "    feature_names = np.array(tfidf.get_feature_names())[indices]\n",
    "    # single words\n",
    "    unigrams = [v for v in feature_names if len(v.split(' ')) == 1]\n",
    "    # pair of words\n",
    "    bigrams = [v for v in feature_names if len(v.split(' ')) == 2]\n",
    "    # three words\n",
    "    trigrams = [v for v in feature_names if len(v.split(' ')) == 3]\n",
    "    print('\\n**',category,'\\n')\n",
    "    print(\"  +Most correlated unigrams:\\n   -{}\".format('\\n   -'.join(unigrams[-N:])))\n",
    "    print(\"  +Most correlated bigrams:\\n   -{}\".format('\\n   -'.join(bigrams[-N:])))\n",
    "    print(\"  +Most correlated trigrams:\\n   -{}\".format('\\n   -'.join(trigrams[-N:])))"
   ],
   "cell_type": "code",
   "metadata": {},
   "execution_count": 11,
   "outputs": [
    {
     "output_type": "stream",
     "name": "stdout",
     "text": [
      "\n",
      "** Extremely Negative \n",
      "\n",
      "  +Most correlated unigrams:\n",
      "   -panic\n",
      "   -crisis\n",
      "  +Most correlated bigrams:\n",
      "   -stop panic\n",
      "   -panic buying\n",
      "  +Most correlated trigrams:\n",
      "   -people panic buying\n",
      "   -stop panic buying\n",
      "\n",
      "** Extremely Positive \n",
      "\n",
      "  +Most correlated unigrams:\n",
      "   -best\n",
      "   -great\n",
      "  +Most correlated bigrams:\n",
      "   -stay safe\n",
      "   -hand sanitizer\n",
      "  +Most correlated trigrams:\n",
      "   -thank grocery store\n",
      "   -health care worker\n",
      "\n",
      "** Negative \n",
      "\n",
      "  +Most correlated unigrams:\n",
      "   -hand\n",
      "   -demand\n",
      "  +Most correlated bigrams:\n",
      "   -oil price\n",
      "   -hand sanitizer\n",
      "  +Most correlated trigrams:\n",
      "   -low oil price\n",
      "   -falling oil price\n",
      "\n",
      "** Neutral \n",
      "\n",
      "  +Most correlated unigrams:\n",
      "   -like\n",
      "   -panic\n",
      "  +Most correlated bigrams:\n",
      "   -panic buying\n",
      "   -hand sanitizer\n",
      "  +Most correlated trigrams:\n",
      "   -panic buying food\n",
      "   -stop panic buying\n",
      "\n",
      "** Positive \n",
      "\n",
      "  +Most correlated unigrams:\n",
      "   -hand\n",
      "   -panic\n",
      "  +Most correlated bigrams:\n",
      "   -panic buying\n",
      "   -hand sanitizer\n",
      "  +Most correlated trigrams:\n",
      "   -sanitizer italy wuhan\n",
      "   -grocery store like\n"
     ]
    }
   ]
  },
  {
   "source": [
    "## Fitting a linear SVM"
   ],
   "cell_type": "markdown",
   "metadata": {}
  },
  {
   "source": [
    "# applying an SVM model to it\n",
    "svm = LinearSVC()\n",
    "\n",
    "params = {'C': [0.01, 0.1, 1, 10, 100]}\n",
    "\n",
    "svm_model = GridSearchCV(svm, params)\n",
    "\n",
    "svm_model.fit(X_train, y_train)"
   ],
   "cell_type": "code",
   "metadata": {},
   "execution_count": 14,
   "outputs": [
    {
     "output_type": "execute_result",
     "data": {
      "text/plain": [
       "GridSearchCV(cv='warn', error_score='raise-deprecating',\n",
       "             estimator=LinearSVC(C=1.0, class_weight=None, dual=True,\n",
       "                                 fit_intercept=True, intercept_scaling=1,\n",
       "                                 loss='squared_hinge', max_iter=1000,\n",
       "                                 multi_class='ovr', penalty='l2',\n",
       "                                 random_state=None, tol=0.0001, verbose=0),\n",
       "             iid='warn', n_jobs=None, param_grid={'C': [0.01, 0.1, 1, 10, 100]},\n",
       "             pre_dispatch='2*n_jobs', refit=True, return_train_score=False,\n",
       "             scoring=None, verbose=0)"
      ]
     },
     "metadata": {},
     "execution_count": 14
    }
   ]
  },
  {
   "cell_type": "code",
   "execution_count": 15,
   "metadata": {},
   "outputs": [
    {
     "output_type": "execute_result",
     "data": {
      "text/plain": [
       "{'C': 1}"
      ]
     },
     "metadata": {},
     "execution_count": 15
    }
   ],
   "source": [
    "svm_model.best_params_"
   ]
  },
  {
   "cell_type": "code",
   "execution_count": 12,
   "metadata": {},
   "outputs": [
    {
     "output_type": "execute_result",
     "data": {
      "text/plain": [
       "LinearSVC(C=1, class_weight=None, dual=True, fit_intercept=True,\n",
       "          intercept_scaling=1, loss='squared_hinge', max_iter=1000,\n",
       "          multi_class='ovr', penalty='l2', random_state=None, tol=0.0001,\n",
       "          verbose=0)"
      ]
     },
     "metadata": {},
     "execution_count": 12
    }
   ],
   "source": [
    "# training the model with the best params found in the HPO part above:\n",
    "svm_model = LinearSVC(C=1)\n",
    "svm_model.fit(X_train, y_train)"
   ]
  },
  {
   "cell_type": "code",
   "execution_count": 13,
   "metadata": {},
   "outputs": [
    {
     "output_type": "execute_result",
     "data": {
      "text/plain": [
       "0.5346508563899868"
      ]
     },
     "metadata": {},
     "execution_count": 13
    }
   ],
   "source": [
    "svm_model.score(X_test, y_test)"
   ]
  },
  {
   "source": [],
   "cell_type": "markdown",
   "metadata": {}
  },
  {
   "cell_type": "code",
   "execution_count": 14,
   "metadata": {},
   "outputs": [
    {
     "output_type": "display_data",
     "data": {
      "text/plain": "<Figure size 720x720 with 2 Axes>",
      "image/svg+xml": "<?xml version=\"1.0\" encoding=\"utf-8\" standalone=\"no\"?>\n<!DOCTYPE svg PUBLIC \"-//W3C//DTD SVG 1.1//EN\"\n  \"http://www.w3.org/Graphics/SVG/1.1/DTD/svg11.dtd\">\n<!-- Created with matplotlib (https://matplotlib.org/) -->\n<svg height=\"677.746875pt\" version=\"1.1\" viewBox=\"0 0 572.32375 677.746875\" width=\"572.32375pt\" xmlns=\"http://www.w3.org/2000/svg\" xmlns:xlink=\"http://www.w3.org/1999/xlink\">\n <defs>\n  <style type=\"text/css\">\n*{stroke-linecap:butt;stroke-linejoin:round;white-space:pre;}\n  </style>\n </defs>\n <g id=\"figure_1\">\n  <g id=\"patch_1\">\n   <path d=\"M 0 677.746875 \nL 572.32375 677.746875 \nL 572.32375 0 \nL 0 0 \nz\n\" style=\"fill:none;\"/>\n  </g>\n  <g id=\"axes_1\">\n   <g id=\"patch_2\">\n    <path d=\"M 37.55625 550.8 \nL 483.95625 550.8 \nL 483.95625 7.2 \nL 37.55625 7.2 \nz\n\" style=\"fill:#ffffff;\"/>\n   </g>\n   <g id=\"QuadMesh_1\">\n    <path clip-path=\"url(#p35c8aacec4)\" d=\"M 37.55625 7.2 \nL 126.83625 7.2 \nL 126.83625 115.92 \nL 37.55625 115.92 \nL 37.55625 7.2 \n\" style=\"fill:#f26d4b;\"/>\n    <path clip-path=\"url(#p35c8aacec4)\" d=\"M 126.83625 7.2 \nL 216.11625 7.2 \nL 216.11625 115.92 \nL 126.83625 115.92 \nL 126.83625 7.2 \n\" style=\"fill:#03051a;\"/>\n    <path clip-path=\"url(#p35c8aacec4)\" d=\"M 216.11625 7.2 \nL 305.39625 7.2 \nL 305.39625 115.92 \nL 216.11625 115.92 \nL 216.11625 7.2 \n\" style=\"fill:#971c5b;\"/>\n    <path clip-path=\"url(#p35c8aacec4)\" d=\"M 305.39625 7.2 \nL 394.67625 7.2 \nL 394.67625 115.92 \nL 305.39625 115.92 \nL 305.39625 7.2 \n\" style=\"fill:#180f29;\"/>\n    <path clip-path=\"url(#p35c8aacec4)\" d=\"M 394.67625 7.2 \nL 483.95625 7.2 \nL 483.95625 115.92 \nL 394.67625 115.92 \nL 394.67625 7.2 \n\" style=\"fill:#1e122d;\"/>\n    <path clip-path=\"url(#p35c8aacec4)\" d=\"M 37.55625 115.92 \nL 126.83625 115.92 \nL 126.83625 224.64 \nL 37.55625 224.64 \nL 37.55625 115.92 \n\" style=\"fill:#07071d;\"/>\n    <path clip-path=\"url(#p35c8aacec4)\" d=\"M 126.83625 115.92 \nL 216.11625 115.92 \nL 216.11625 224.64 \nL 126.83625 224.64 \nL 126.83625 115.92 \n\" style=\"fill:#f59269;\"/>\n    <path clip-path=\"url(#p35c8aacec4)\" d=\"M 216.11625 115.92 \nL 305.39625 115.92 \nL 305.39625 224.64 \nL 216.11625 224.64 \nL 216.11625 115.92 \n\" style=\"fill:#110c24;\"/>\n    <path clip-path=\"url(#p35c8aacec4)\" d=\"M 305.39625 115.92 \nL 394.67625 115.92 \nL 394.67625 224.64 \nL 305.39625 224.64 \nL 305.39625 115.92 \n\" style=\"fill:#0d0a21;\"/>\n    <path clip-path=\"url(#p35c8aacec4)\" d=\"M 394.67625 115.92 \nL 483.95625 115.92 \nL 483.95625 224.64 \nL 394.67625 224.64 \nL 394.67625 115.92 \n\" style=\"fill:#8e1d5b;\"/>\n    <path clip-path=\"url(#p35c8aacec4)\" d=\"M 37.55625 224.64 \nL 126.83625 224.64 \nL 126.83625 333.36 \nL 37.55625 333.36 \nL 37.55625 224.64 \n\" style=\"fill:#bf1654;\"/>\n    <path clip-path=\"url(#p35c8aacec4)\" d=\"M 126.83625 224.64 \nL 216.11625 224.64 \nL 216.11625 333.36 \nL 126.83625 333.36 \nL 126.83625 224.64 \n\" style=\"fill:#170f28;\"/>\n    <path clip-path=\"url(#p35c8aacec4)\" d=\"M 216.11625 224.64 \nL 305.39625 224.64 \nL 305.39625 333.36 \nL 216.11625 333.36 \nL 216.11625 224.64 \n\" style=\"fill:#f6b995;\"/>\n    <path clip-path=\"url(#p35c8aacec4)\" d=\"M 305.39625 224.64 \nL 394.67625 224.64 \nL 394.67625 333.36 \nL 305.39625 333.36 \nL 305.39625 224.64 \n\" style=\"fill:#861e5b;\"/>\n    <path clip-path=\"url(#p35c8aacec4)\" d=\"M 394.67625 224.64 \nL 483.95625 224.64 \nL 483.95625 333.36 \nL 394.67625 333.36 \nL 394.67625 224.64 \n\" style=\"fill:#af1759;\"/>\n    <path clip-path=\"url(#p35c8aacec4)\" d=\"M 37.55625 333.36 \nL 126.83625 333.36 \nL 126.83625 442.08 \nL 37.55625 442.08 \nL 37.55625 333.36 \n\" style=\"fill:#03051a;\"/>\n    <path clip-path=\"url(#p35c8aacec4)\" d=\"M 126.83625 333.36 \nL 216.11625 333.36 \nL 216.11625 442.08 \nL 126.83625 442.08 \nL 126.83625 333.36 \n\" style=\"fill:#07071d;\"/>\n    <path clip-path=\"url(#p35c8aacec4)\" d=\"M 216.11625 333.36 \nL 305.39625 333.36 \nL 305.39625 442.08 \nL 216.11625 442.08 \nL 216.11625 333.36 \n\" style=\"fill:#3f1b43;\"/>\n    <path clip-path=\"url(#p35c8aacec4)\" d=\"M 305.39625 333.36 \nL 394.67625 333.36 \nL 394.67625 442.08 \nL 305.39625 442.08 \nL 305.39625 333.36 \n\" style=\"fill:#f7d0b5;\"/>\n    <path clip-path=\"url(#p35c8aacec4)\" d=\"M 394.67625 333.36 \nL 483.95625 333.36 \nL 483.95625 442.08 \nL 394.67625 442.08 \nL 394.67625 333.36 \n\" style=\"fill:#381a40;\"/>\n    <path clip-path=\"url(#p35c8aacec4)\" d=\"M 37.55625 442.08 \nL 126.83625 442.08 \nL 126.83625 550.8 \nL 37.55625 550.8 \nL 37.55625 442.08 \n\" style=\"fill:#1d112c;\"/>\n    <path clip-path=\"url(#p35c8aacec4)\" d=\"M 126.83625 442.08 \nL 216.11625 442.08 \nL 216.11625 550.8 \nL 126.83625 550.8 \nL 126.83625 442.08 \n\" style=\"fill:#9a1b5b;\"/>\n    <path clip-path=\"url(#p35c8aacec4)\" d=\"M 216.11625 442.08 \nL 305.39625 442.08 \nL 305.39625 550.8 \nL 216.11625 550.8 \nL 216.11625 442.08 \n\" style=\"fill:#681f55;\"/>\n    <path clip-path=\"url(#p35c8aacec4)\" d=\"M 305.39625 442.08 \nL 394.67625 442.08 \nL 394.67625 550.8 \nL 305.39625 550.8 \nL 305.39625 442.08 \n\" style=\"fill:#5c1e51;\"/>\n    <path clip-path=\"url(#p35c8aacec4)\" d=\"M 394.67625 442.08 \nL 483.95625 442.08 \nL 483.95625 550.8 \nL 394.67625 550.8 \nL 394.67625 442.08 \n\" style=\"fill:#faebdd;\"/>\n   </g>\n   <g id=\"matplotlib.axis_1\">\n    <g id=\"xtick_1\">\n     <g id=\"line2d_1\">\n      <defs>\n       <path d=\"M 0 0 \nL 0 3.5 \n\" id=\"m3998ac1fec\" style=\"stroke:#000000;stroke-width:0.8;\"/>\n      </defs>\n      <g>\n       <use style=\"stroke:#000000;stroke-width:0.8;\" x=\"82.19625\" xlink:href=\"#m3998ac1fec\" y=\"550.8\"/>\n      </g>\n     </g>\n     <g id=\"text_1\">\n      <!-- Extremely Negative -->\n      <defs>\n       <path d=\"M 9.8125 72.90625 \nL 55.90625 72.90625 \nL 55.90625 64.59375 \nL 19.671875 64.59375 \nL 19.671875 43.015625 \nL 54.390625 43.015625 \nL 54.390625 34.71875 \nL 19.671875 34.71875 \nL 19.671875 8.296875 \nL 56.78125 8.296875 \nL 56.78125 0 \nL 9.8125 0 \nz\n\" id=\"DejaVuSans-69\"/>\n       <path d=\"M 54.890625 54.6875 \nL 35.109375 28.078125 \nL 55.90625 0 \nL 45.3125 0 \nL 29.390625 21.484375 \nL 13.484375 0 \nL 2.875 0 \nL 24.125 28.609375 \nL 4.6875 54.6875 \nL 15.28125 54.6875 \nL 29.78125 35.203125 \nL 44.28125 54.6875 \nz\n\" id=\"DejaVuSans-120\"/>\n       <path d=\"M 18.3125 70.21875 \nL 18.3125 54.6875 \nL 36.8125 54.6875 \nL 36.8125 47.703125 \nL 18.3125 47.703125 \nL 18.3125 18.015625 \nQ 18.3125 11.328125 20.140625 9.421875 \nQ 21.96875 7.515625 27.59375 7.515625 \nL 36.8125 7.515625 \nL 36.8125 0 \nL 27.59375 0 \nQ 17.1875 0 13.234375 3.875 \nQ 9.28125 7.765625 9.28125 18.015625 \nL 9.28125 47.703125 \nL 2.6875 47.703125 \nL 2.6875 54.6875 \nL 9.28125 54.6875 \nL 9.28125 70.21875 \nz\n\" id=\"DejaVuSans-116\"/>\n       <path d=\"M 41.109375 46.296875 \nQ 39.59375 47.171875 37.8125 47.578125 \nQ 36.03125 48 33.890625 48 \nQ 26.265625 48 22.1875 43.046875 \nQ 18.109375 38.09375 18.109375 28.8125 \nL 18.109375 0 \nL 9.078125 0 \nL 9.078125 54.6875 \nL 18.109375 54.6875 \nL 18.109375 46.1875 \nQ 20.953125 51.171875 25.484375 53.578125 \nQ 30.03125 56 36.53125 56 \nQ 37.453125 56 38.578125 55.875 \nQ 39.703125 55.765625 41.0625 55.515625 \nz\n\" id=\"DejaVuSans-114\"/>\n       <path d=\"M 56.203125 29.59375 \nL 56.203125 25.203125 \nL 14.890625 25.203125 \nQ 15.484375 15.921875 20.484375 11.0625 \nQ 25.484375 6.203125 34.421875 6.203125 \nQ 39.59375 6.203125 44.453125 7.46875 \nQ 49.3125 8.734375 54.109375 11.28125 \nL 54.109375 2.78125 \nQ 49.265625 0.734375 44.1875 -0.34375 \nQ 39.109375 -1.421875 33.890625 -1.421875 \nQ 20.796875 -1.421875 13.15625 6.1875 \nQ 5.515625 13.8125 5.515625 26.8125 \nQ 5.515625 40.234375 12.765625 48.109375 \nQ 20.015625 56 32.328125 56 \nQ 43.359375 56 49.78125 48.890625 \nQ 56.203125 41.796875 56.203125 29.59375 \nz\nM 47.21875 32.234375 \nQ 47.125 39.59375 43.09375 43.984375 \nQ 39.0625 48.390625 32.421875 48.390625 \nQ 24.90625 48.390625 20.390625 44.140625 \nQ 15.875 39.890625 15.1875 32.171875 \nz\n\" id=\"DejaVuSans-101\"/>\n       <path d=\"M 52 44.1875 \nQ 55.375 50.25 60.0625 53.125 \nQ 64.75 56 71.09375 56 \nQ 79.640625 56 84.28125 50.015625 \nQ 88.921875 44.046875 88.921875 33.015625 \nL 88.921875 0 \nL 79.890625 0 \nL 79.890625 32.71875 \nQ 79.890625 40.578125 77.09375 44.375 \nQ 74.3125 48.1875 68.609375 48.1875 \nQ 61.625 48.1875 57.5625 43.546875 \nQ 53.515625 38.921875 53.515625 30.90625 \nL 53.515625 0 \nL 44.484375 0 \nL 44.484375 32.71875 \nQ 44.484375 40.625 41.703125 44.40625 \nQ 38.921875 48.1875 33.109375 48.1875 \nQ 26.21875 48.1875 22.15625 43.53125 \nQ 18.109375 38.875 18.109375 30.90625 \nL 18.109375 0 \nL 9.078125 0 \nL 9.078125 54.6875 \nL 18.109375 54.6875 \nL 18.109375 46.1875 \nQ 21.1875 51.21875 25.484375 53.609375 \nQ 29.78125 56 35.6875 56 \nQ 41.65625 56 45.828125 52.96875 \nQ 50 49.953125 52 44.1875 \nz\n\" id=\"DejaVuSans-109\"/>\n       <path d=\"M 9.421875 75.984375 \nL 18.40625 75.984375 \nL 18.40625 0 \nL 9.421875 0 \nz\n\" id=\"DejaVuSans-108\"/>\n       <path d=\"M 32.171875 -5.078125 \nQ 28.375 -14.84375 24.75 -17.8125 \nQ 21.140625 -20.796875 15.09375 -20.796875 \nL 7.90625 -20.796875 \nL 7.90625 -13.28125 \nL 13.1875 -13.28125 \nQ 16.890625 -13.28125 18.9375 -11.515625 \nQ 21 -9.765625 23.484375 -3.21875 \nL 25.09375 0.875 \nL 2.984375 54.6875 \nL 12.5 54.6875 \nL 29.59375 11.921875 \nL 46.6875 54.6875 \nL 56.203125 54.6875 \nz\n\" id=\"DejaVuSans-121\"/>\n       <path id=\"DejaVuSans-32\"/>\n       <path d=\"M 9.8125 72.90625 \nL 23.09375 72.90625 \nL 55.421875 11.921875 \nL 55.421875 72.90625 \nL 64.984375 72.90625 \nL 64.984375 0 \nL 51.703125 0 \nL 19.390625 60.984375 \nL 19.390625 0 \nL 9.8125 0 \nz\n\" id=\"DejaVuSans-78\"/>\n       <path d=\"M 45.40625 27.984375 \nQ 45.40625 37.75 41.375 43.109375 \nQ 37.359375 48.484375 30.078125 48.484375 \nQ 22.859375 48.484375 18.828125 43.109375 \nQ 14.796875 37.75 14.796875 27.984375 \nQ 14.796875 18.265625 18.828125 12.890625 \nQ 22.859375 7.515625 30.078125 7.515625 \nQ 37.359375 7.515625 41.375 12.890625 \nQ 45.40625 18.265625 45.40625 27.984375 \nz\nM 54.390625 6.78125 \nQ 54.390625 -7.171875 48.1875 -13.984375 \nQ 42 -20.796875 29.203125 -20.796875 \nQ 24.46875 -20.796875 20.265625 -20.09375 \nQ 16.0625 -19.390625 12.109375 -17.921875 \nL 12.109375 -9.1875 \nQ 16.0625 -11.328125 19.921875 -12.34375 \nQ 23.78125 -13.375 27.78125 -13.375 \nQ 36.625 -13.375 41.015625 -8.765625 \nQ 45.40625 -4.15625 45.40625 5.171875 \nL 45.40625 9.625 \nQ 42.625 4.78125 38.28125 2.390625 \nQ 33.9375 0 27.875 0 \nQ 17.828125 0 11.671875 7.65625 \nQ 5.515625 15.328125 5.515625 27.984375 \nQ 5.515625 40.671875 11.671875 48.328125 \nQ 17.828125 56 27.875 56 \nQ 33.9375 56 38.28125 53.609375 \nQ 42.625 51.21875 45.40625 46.390625 \nL 45.40625 54.6875 \nL 54.390625 54.6875 \nz\n\" id=\"DejaVuSans-103\"/>\n       <path d=\"M 34.28125 27.484375 \nQ 23.390625 27.484375 19.1875 25 \nQ 14.984375 22.515625 14.984375 16.5 \nQ 14.984375 11.71875 18.140625 8.90625 \nQ 21.296875 6.109375 26.703125 6.109375 \nQ 34.1875 6.109375 38.703125 11.40625 \nQ 43.21875 16.703125 43.21875 25.484375 \nL 43.21875 27.484375 \nz\nM 52.203125 31.203125 \nL 52.203125 0 \nL 43.21875 0 \nL 43.21875 8.296875 \nQ 40.140625 3.328125 35.546875 0.953125 \nQ 30.953125 -1.421875 24.3125 -1.421875 \nQ 15.921875 -1.421875 10.953125 3.296875 \nQ 6 8.015625 6 15.921875 \nQ 6 25.140625 12.171875 29.828125 \nQ 18.359375 34.515625 30.609375 34.515625 \nL 43.21875 34.515625 \nL 43.21875 35.40625 \nQ 43.21875 41.609375 39.140625 45 \nQ 35.0625 48.390625 27.6875 48.390625 \nQ 23 48.390625 18.546875 47.265625 \nQ 14.109375 46.140625 10.015625 43.890625 \nL 10.015625 52.203125 \nQ 14.9375 54.109375 19.578125 55.046875 \nQ 24.21875 56 28.609375 56 \nQ 40.484375 56 46.34375 49.84375 \nQ 52.203125 43.703125 52.203125 31.203125 \nz\n\" id=\"DejaVuSans-97\"/>\n       <path d=\"M 9.421875 54.6875 \nL 18.40625 54.6875 \nL 18.40625 0 \nL 9.421875 0 \nz\nM 9.421875 75.984375 \nL 18.40625 75.984375 \nL 18.40625 64.59375 \nL 9.421875 64.59375 \nz\n\" id=\"DejaVuSans-105\"/>\n       <path d=\"M 2.984375 54.6875 \nL 12.5 54.6875 \nL 29.59375 8.796875 \nL 46.6875 54.6875 \nL 56.203125 54.6875 \nL 35.6875 0 \nL 23.484375 0 \nz\n\" id=\"DejaVuSans-118\"/>\n      </defs>\n      <g transform=\"translate(84.955625 656.86875)rotate(-90)scale(0.1 -0.1)\">\n       <use xlink:href=\"#DejaVuSans-69\"/>\n       <use x=\"63.183594\" xlink:href=\"#DejaVuSans-120\"/>\n       <use x=\"122.363281\" xlink:href=\"#DejaVuSans-116\"/>\n       <use x=\"161.572266\" xlink:href=\"#DejaVuSans-114\"/>\n       <use x=\"202.654297\" xlink:href=\"#DejaVuSans-101\"/>\n       <use x=\"264.177734\" xlink:href=\"#DejaVuSans-109\"/>\n       <use x=\"361.589844\" xlink:href=\"#DejaVuSans-101\"/>\n       <use x=\"423.113281\" xlink:href=\"#DejaVuSans-108\"/>\n       <use x=\"450.896484\" xlink:href=\"#DejaVuSans-121\"/>\n       <use x=\"510.076172\" xlink:href=\"#DejaVuSans-32\"/>\n       <use x=\"541.863281\" xlink:href=\"#DejaVuSans-78\"/>\n       <use x=\"616.667969\" xlink:href=\"#DejaVuSans-101\"/>\n       <use x=\"678.191406\" xlink:href=\"#DejaVuSans-103\"/>\n       <use x=\"741.667969\" xlink:href=\"#DejaVuSans-97\"/>\n       <use x=\"802.947266\" xlink:href=\"#DejaVuSans-116\"/>\n       <use x=\"842.15625\" xlink:href=\"#DejaVuSans-105\"/>\n       <use x=\"869.939453\" xlink:href=\"#DejaVuSans-118\"/>\n       <use x=\"929.119141\" xlink:href=\"#DejaVuSans-101\"/>\n      </g>\n     </g>\n    </g>\n    <g id=\"xtick_2\">\n     <g id=\"line2d_2\">\n      <g>\n       <use style=\"stroke:#000000;stroke-width:0.8;\" x=\"171.47625\" xlink:href=\"#m3998ac1fec\" y=\"550.8\"/>\n      </g>\n     </g>\n     <g id=\"text_2\">\n      <!-- Extremely Positive -->\n      <defs>\n       <path d=\"M 19.671875 64.796875 \nL 19.671875 37.40625 \nL 32.078125 37.40625 \nQ 38.96875 37.40625 42.71875 40.96875 \nQ 46.484375 44.53125 46.484375 51.125 \nQ 46.484375 57.671875 42.71875 61.234375 \nQ 38.96875 64.796875 32.078125 64.796875 \nz\nM 9.8125 72.90625 \nL 32.078125 72.90625 \nQ 44.34375 72.90625 50.609375 67.359375 \nQ 56.890625 61.8125 56.890625 51.125 \nQ 56.890625 40.328125 50.609375 34.8125 \nQ 44.34375 29.296875 32.078125 29.296875 \nL 19.671875 29.296875 \nL 19.671875 0 \nL 9.8125 0 \nz\n\" id=\"DejaVuSans-80\"/>\n       <path d=\"M 30.609375 48.390625 \nQ 23.390625 48.390625 19.1875 42.75 \nQ 14.984375 37.109375 14.984375 27.296875 \nQ 14.984375 17.484375 19.15625 11.84375 \nQ 23.34375 6.203125 30.609375 6.203125 \nQ 37.796875 6.203125 41.984375 11.859375 \nQ 46.1875 17.53125 46.1875 27.296875 \nQ 46.1875 37.015625 41.984375 42.703125 \nQ 37.796875 48.390625 30.609375 48.390625 \nz\nM 30.609375 56 \nQ 42.328125 56 49.015625 48.375 \nQ 55.71875 40.765625 55.71875 27.296875 \nQ 55.71875 13.875 49.015625 6.21875 \nQ 42.328125 -1.421875 30.609375 -1.421875 \nQ 18.84375 -1.421875 12.171875 6.21875 \nQ 5.515625 13.875 5.515625 27.296875 \nQ 5.515625 40.765625 12.171875 48.375 \nQ 18.84375 56 30.609375 56 \nz\n\" id=\"DejaVuSans-111\"/>\n       <path d=\"M 44.28125 53.078125 \nL 44.28125 44.578125 \nQ 40.484375 46.53125 36.375 47.5 \nQ 32.28125 48.484375 27.875 48.484375 \nQ 21.1875 48.484375 17.84375 46.4375 \nQ 14.5 44.390625 14.5 40.28125 \nQ 14.5 37.15625 16.890625 35.375 \nQ 19.28125 33.59375 26.515625 31.984375 \nL 29.59375 31.296875 \nQ 39.15625 29.25 43.1875 25.515625 \nQ 47.21875 21.78125 47.21875 15.09375 \nQ 47.21875 7.46875 41.1875 3.015625 \nQ 35.15625 -1.421875 24.609375 -1.421875 \nQ 20.21875 -1.421875 15.453125 -0.5625 \nQ 10.6875 0.296875 5.421875 2 \nL 5.421875 11.28125 \nQ 10.40625 8.6875 15.234375 7.390625 \nQ 20.0625 6.109375 24.8125 6.109375 \nQ 31.15625 6.109375 34.5625 8.28125 \nQ 37.984375 10.453125 37.984375 14.40625 \nQ 37.984375 18.0625 35.515625 20.015625 \nQ 33.0625 21.96875 24.703125 23.78125 \nL 21.578125 24.515625 \nQ 13.234375 26.265625 9.515625 29.90625 \nQ 5.8125 33.546875 5.8125 39.890625 \nQ 5.8125 47.609375 11.28125 51.796875 \nQ 16.75 56 26.8125 56 \nQ 31.78125 56 36.171875 55.265625 \nQ 40.578125 54.546875 44.28125 53.078125 \nz\n\" id=\"DejaVuSans-115\"/>\n      </defs>\n      <g transform=\"translate(174.235625 650.889063)rotate(-90)scale(0.1 -0.1)\">\n       <use xlink:href=\"#DejaVuSans-69\"/>\n       <use x=\"63.183594\" xlink:href=\"#DejaVuSans-120\"/>\n       <use x=\"122.363281\" xlink:href=\"#DejaVuSans-116\"/>\n       <use x=\"161.572266\" xlink:href=\"#DejaVuSans-114\"/>\n       <use x=\"202.654297\" xlink:href=\"#DejaVuSans-101\"/>\n       <use x=\"264.177734\" xlink:href=\"#DejaVuSans-109\"/>\n       <use x=\"361.589844\" xlink:href=\"#DejaVuSans-101\"/>\n       <use x=\"423.113281\" xlink:href=\"#DejaVuSans-108\"/>\n       <use x=\"450.896484\" xlink:href=\"#DejaVuSans-121\"/>\n       <use x=\"510.076172\" xlink:href=\"#DejaVuSans-32\"/>\n       <use x=\"541.863281\" xlink:href=\"#DejaVuSans-80\"/>\n       <use x=\"602.119141\" xlink:href=\"#DejaVuSans-111\"/>\n       <use x=\"663.300781\" xlink:href=\"#DejaVuSans-115\"/>\n       <use x=\"715.400391\" xlink:href=\"#DejaVuSans-105\"/>\n       <use x=\"743.183594\" xlink:href=\"#DejaVuSans-116\"/>\n       <use x=\"782.392578\" xlink:href=\"#DejaVuSans-105\"/>\n       <use x=\"810.175781\" xlink:href=\"#DejaVuSans-118\"/>\n       <use x=\"869.355469\" xlink:href=\"#DejaVuSans-101\"/>\n      </g>\n     </g>\n    </g>\n    <g id=\"xtick_3\">\n     <g id=\"line2d_3\">\n      <g>\n       <use style=\"stroke:#000000;stroke-width:0.8;\" x=\"260.75625\" xlink:href=\"#m3998ac1fec\" y=\"550.8\"/>\n      </g>\n     </g>\n     <g id=\"text_3\">\n      <!-- Negative -->\n      <g transform=\"translate(263.515625 602.68125)rotate(-90)scale(0.1 -0.1)\">\n       <use xlink:href=\"#DejaVuSans-78\"/>\n       <use x=\"74.804688\" xlink:href=\"#DejaVuSans-101\"/>\n       <use x=\"136.328125\" xlink:href=\"#DejaVuSans-103\"/>\n       <use x=\"199.804688\" xlink:href=\"#DejaVuSans-97\"/>\n       <use x=\"261.083984\" xlink:href=\"#DejaVuSans-116\"/>\n       <use x=\"300.292969\" xlink:href=\"#DejaVuSans-105\"/>\n       <use x=\"328.076172\" xlink:href=\"#DejaVuSans-118\"/>\n       <use x=\"387.255859\" xlink:href=\"#DejaVuSans-101\"/>\n      </g>\n     </g>\n    </g>\n    <g id=\"xtick_4\">\n     <g id=\"line2d_4\">\n      <g>\n       <use style=\"stroke:#000000;stroke-width:0.8;\" x=\"350.03625\" xlink:href=\"#m3998ac1fec\" y=\"550.8\"/>\n      </g>\n     </g>\n     <g id=\"text_4\">\n      <!-- Neutral -->\n      <defs>\n       <path d=\"M 8.5 21.578125 \nL 8.5 54.6875 \nL 17.484375 54.6875 \nL 17.484375 21.921875 \nQ 17.484375 14.15625 20.5 10.265625 \nQ 23.53125 6.390625 29.59375 6.390625 \nQ 36.859375 6.390625 41.078125 11.03125 \nQ 45.3125 15.671875 45.3125 23.6875 \nL 45.3125 54.6875 \nL 54.296875 54.6875 \nL 54.296875 0 \nL 45.3125 0 \nL 45.3125 8.40625 \nQ 42.046875 3.421875 37.71875 1 \nQ 33.40625 -1.421875 27.6875 -1.421875 \nQ 18.265625 -1.421875 13.375 4.4375 \nQ 8.5 10.296875 8.5 21.578125 \nz\nM 31.109375 56 \nz\n\" id=\"DejaVuSans-117\"/>\n      </defs>\n      <g transform=\"translate(352.795625 594.709375)rotate(-90)scale(0.1 -0.1)\">\n       <use xlink:href=\"#DejaVuSans-78\"/>\n       <use x=\"74.804688\" xlink:href=\"#DejaVuSans-101\"/>\n       <use x=\"136.328125\" xlink:href=\"#DejaVuSans-117\"/>\n       <use x=\"199.707031\" xlink:href=\"#DejaVuSans-116\"/>\n       <use x=\"238.916016\" xlink:href=\"#DejaVuSans-114\"/>\n       <use x=\"280.029297\" xlink:href=\"#DejaVuSans-97\"/>\n       <use x=\"341.308594\" xlink:href=\"#DejaVuSans-108\"/>\n      </g>\n     </g>\n    </g>\n    <g id=\"xtick_5\">\n     <g id=\"line2d_5\">\n      <g>\n       <use style=\"stroke:#000000;stroke-width:0.8;\" x=\"439.31625\" xlink:href=\"#m3998ac1fec\" y=\"550.8\"/>\n      </g>\n     </g>\n     <g id=\"text_5\">\n      <!-- Positive -->\n      <g transform=\"translate(442.075625 596.701563)rotate(-90)scale(0.1 -0.1)\">\n       <use xlink:href=\"#DejaVuSans-80\"/>\n       <use x=\"60.255859\" xlink:href=\"#DejaVuSans-111\"/>\n       <use x=\"121.4375\" xlink:href=\"#DejaVuSans-115\"/>\n       <use x=\"173.537109\" xlink:href=\"#DejaVuSans-105\"/>\n       <use x=\"201.320312\" xlink:href=\"#DejaVuSans-116\"/>\n       <use x=\"240.529297\" xlink:href=\"#DejaVuSans-105\"/>\n       <use x=\"268.3125\" xlink:href=\"#DejaVuSans-118\"/>\n       <use x=\"327.492188\" xlink:href=\"#DejaVuSans-101\"/>\n      </g>\n     </g>\n    </g>\n    <g id=\"text_6\">\n     <!-- Predicted -->\n     <defs>\n      <path d=\"M 45.40625 46.390625 \nL 45.40625 75.984375 \nL 54.390625 75.984375 \nL 54.390625 0 \nL 45.40625 0 \nL 45.40625 8.203125 \nQ 42.578125 3.328125 38.25 0.953125 \nQ 33.9375 -1.421875 27.875 -1.421875 \nQ 17.96875 -1.421875 11.734375 6.484375 \nQ 5.515625 14.40625 5.515625 27.296875 \nQ 5.515625 40.1875 11.734375 48.09375 \nQ 17.96875 56 27.875 56 \nQ 33.9375 56 38.25 53.625 \nQ 42.578125 51.265625 45.40625 46.390625 \nz\nM 14.796875 27.296875 \nQ 14.796875 17.390625 18.875 11.75 \nQ 22.953125 6.109375 30.078125 6.109375 \nQ 37.203125 6.109375 41.296875 11.75 \nQ 45.40625 17.390625 45.40625 27.296875 \nQ 45.40625 37.203125 41.296875 42.84375 \nQ 37.203125 48.484375 30.078125 48.484375 \nQ 22.953125 48.484375 18.875 42.84375 \nQ 14.796875 37.203125 14.796875 27.296875 \nz\n\" id=\"DejaVuSans-100\"/>\n      <path d=\"M 48.78125 52.59375 \nL 48.78125 44.1875 \nQ 44.96875 46.296875 41.140625 47.34375 \nQ 37.3125 48.390625 33.40625 48.390625 \nQ 24.65625 48.390625 19.8125 42.84375 \nQ 14.984375 37.3125 14.984375 27.296875 \nQ 14.984375 17.28125 19.8125 11.734375 \nQ 24.65625 6.203125 33.40625 6.203125 \nQ 37.3125 6.203125 41.140625 7.25 \nQ 44.96875 8.296875 48.78125 10.40625 \nL 48.78125 2.09375 \nQ 45.015625 0.34375 40.984375 -0.53125 \nQ 36.96875 -1.421875 32.421875 -1.421875 \nQ 20.0625 -1.421875 12.78125 6.34375 \nQ 5.515625 14.109375 5.515625 27.296875 \nQ 5.515625 40.671875 12.859375 48.328125 \nQ 20.21875 56 33.015625 56 \nQ 37.15625 56 41.109375 55.140625 \nQ 45.0625 54.296875 48.78125 52.59375 \nz\n\" id=\"DejaVuSans-99\"/>\n     </defs>\n     <g transform=\"translate(237.088281 668.467188)scale(0.1 -0.1)\">\n      <use xlink:href=\"#DejaVuSans-80\"/>\n      <use x=\"60.287109\" xlink:href=\"#DejaVuSans-114\"/>\n      <use x=\"101.369141\" xlink:href=\"#DejaVuSans-101\"/>\n      <use x=\"162.892578\" xlink:href=\"#DejaVuSans-100\"/>\n      <use x=\"226.369141\" xlink:href=\"#DejaVuSans-105\"/>\n      <use x=\"254.152344\" xlink:href=\"#DejaVuSans-99\"/>\n      <use x=\"309.132812\" xlink:href=\"#DejaVuSans-116\"/>\n      <use x=\"348.341797\" xlink:href=\"#DejaVuSans-101\"/>\n      <use x=\"409.865234\" xlink:href=\"#DejaVuSans-100\"/>\n     </g>\n    </g>\n   </g>\n   <g id=\"matplotlib.axis_2\">\n    <g id=\"ytick_1\">\n     <g id=\"line2d_6\">\n      <defs>\n       <path d=\"M 0 0 \nL -3.5 0 \n\" id=\"m9fe60f7bb3\" style=\"stroke:#000000;stroke-width:0.8;\"/>\n      </defs>\n      <g>\n       <use style=\"stroke:#000000;stroke-width:0.8;\" x=\"37.55625\" xlink:href=\"#m9fe60f7bb3\" y=\"61.56\"/>\n      </g>\n     </g>\n     <g id=\"text_7\">\n      <!-- Extremely Negative -->\n      <g transform=\"translate(28.476563 156.829531)rotate(-90)scale(0.1 -0.1)\">\n       <use xlink:href=\"#DejaVuSans-69\"/>\n       <use x=\"63.183594\" xlink:href=\"#DejaVuSans-120\"/>\n       <use x=\"122.363281\" xlink:href=\"#DejaVuSans-116\"/>\n       <use x=\"161.572266\" xlink:href=\"#DejaVuSans-114\"/>\n       <use x=\"202.654297\" xlink:href=\"#DejaVuSans-101\"/>\n       <use x=\"264.177734\" xlink:href=\"#DejaVuSans-109\"/>\n       <use x=\"361.589844\" xlink:href=\"#DejaVuSans-101\"/>\n       <use x=\"423.113281\" xlink:href=\"#DejaVuSans-108\"/>\n       <use x=\"450.896484\" xlink:href=\"#DejaVuSans-121\"/>\n       <use x=\"510.076172\" xlink:href=\"#DejaVuSans-32\"/>\n       <use x=\"541.863281\" xlink:href=\"#DejaVuSans-78\"/>\n       <use x=\"616.667969\" xlink:href=\"#DejaVuSans-101\"/>\n       <use x=\"678.191406\" xlink:href=\"#DejaVuSans-103\"/>\n       <use x=\"741.667969\" xlink:href=\"#DejaVuSans-97\"/>\n       <use x=\"802.947266\" xlink:href=\"#DejaVuSans-116\"/>\n       <use x=\"842.15625\" xlink:href=\"#DejaVuSans-105\"/>\n       <use x=\"869.939453\" xlink:href=\"#DejaVuSans-118\"/>\n       <use x=\"929.119141\" xlink:href=\"#DejaVuSans-101\"/>\n      </g>\n     </g>\n    </g>\n    <g id=\"ytick_2\">\n     <g id=\"line2d_7\">\n      <g>\n       <use style=\"stroke:#000000;stroke-width:0.8;\" x=\"37.55625\" xlink:href=\"#m9fe60f7bb3\" y=\"170.28\"/>\n      </g>\n     </g>\n     <g id=\"text_8\">\n      <!-- Extremely Positive -->\n      <g transform=\"translate(28.476563 259.569844)rotate(-90)scale(0.1 -0.1)\">\n       <use xlink:href=\"#DejaVuSans-69\"/>\n       <use x=\"63.183594\" xlink:href=\"#DejaVuSans-120\"/>\n       <use x=\"122.363281\" xlink:href=\"#DejaVuSans-116\"/>\n       <use x=\"161.572266\" xlink:href=\"#DejaVuSans-114\"/>\n       <use x=\"202.654297\" xlink:href=\"#DejaVuSans-101\"/>\n       <use x=\"264.177734\" xlink:href=\"#DejaVuSans-109\"/>\n       <use x=\"361.589844\" xlink:href=\"#DejaVuSans-101\"/>\n       <use x=\"423.113281\" xlink:href=\"#DejaVuSans-108\"/>\n       <use x=\"450.896484\" xlink:href=\"#DejaVuSans-121\"/>\n       <use x=\"510.076172\" xlink:href=\"#DejaVuSans-32\"/>\n       <use x=\"541.863281\" xlink:href=\"#DejaVuSans-80\"/>\n       <use x=\"602.119141\" xlink:href=\"#DejaVuSans-111\"/>\n       <use x=\"663.300781\" xlink:href=\"#DejaVuSans-115\"/>\n       <use x=\"715.400391\" xlink:href=\"#DejaVuSans-105\"/>\n       <use x=\"743.183594\" xlink:href=\"#DejaVuSans-116\"/>\n       <use x=\"782.392578\" xlink:href=\"#DejaVuSans-105\"/>\n       <use x=\"810.175781\" xlink:href=\"#DejaVuSans-118\"/>\n       <use x=\"869.355469\" xlink:href=\"#DejaVuSans-101\"/>\n      </g>\n     </g>\n    </g>\n    <g id=\"ytick_3\">\n     <g id=\"line2d_8\">\n      <g>\n       <use style=\"stroke:#000000;stroke-width:0.8;\" x=\"37.55625\" xlink:href=\"#m9fe60f7bb3\" y=\"279\"/>\n      </g>\n     </g>\n     <g id=\"text_9\">\n      <!-- Negative -->\n      <g transform=\"translate(28.476563 320.082031)rotate(-90)scale(0.1 -0.1)\">\n       <use xlink:href=\"#DejaVuSans-78\"/>\n       <use x=\"74.804688\" xlink:href=\"#DejaVuSans-101\"/>\n       <use x=\"136.328125\" xlink:href=\"#DejaVuSans-103\"/>\n       <use x=\"199.804688\" xlink:href=\"#DejaVuSans-97\"/>\n       <use x=\"261.083984\" xlink:href=\"#DejaVuSans-116\"/>\n       <use x=\"300.292969\" xlink:href=\"#DejaVuSans-105\"/>\n       <use x=\"328.076172\" xlink:href=\"#DejaVuSans-118\"/>\n       <use x=\"387.255859\" xlink:href=\"#DejaVuSans-101\"/>\n      </g>\n     </g>\n    </g>\n    <g id=\"ytick_4\">\n     <g id=\"line2d_9\">\n      <g>\n       <use style=\"stroke:#000000;stroke-width:0.8;\" x=\"37.55625\" xlink:href=\"#m9fe60f7bb3\" y=\"387.72\"/>\n      </g>\n     </g>\n     <g id=\"text_10\">\n      <!-- Neutral -->\n      <g transform=\"translate(28.476563 420.830156)rotate(-90)scale(0.1 -0.1)\">\n       <use xlink:href=\"#DejaVuSans-78\"/>\n       <use x=\"74.804688\" xlink:href=\"#DejaVuSans-101\"/>\n       <use x=\"136.328125\" xlink:href=\"#DejaVuSans-117\"/>\n       <use x=\"199.707031\" xlink:href=\"#DejaVuSans-116\"/>\n       <use x=\"238.916016\" xlink:href=\"#DejaVuSans-114\"/>\n       <use x=\"280.029297\" xlink:href=\"#DejaVuSans-97\"/>\n       <use x=\"341.308594\" xlink:href=\"#DejaVuSans-108\"/>\n      </g>\n     </g>\n    </g>\n    <g id=\"ytick_5\">\n     <g id=\"line2d_10\">\n      <g>\n       <use style=\"stroke:#000000;stroke-width:0.8;\" x=\"37.55625\" xlink:href=\"#m9fe60f7bb3\" y=\"496.44\"/>\n      </g>\n     </g>\n     <g id=\"text_11\">\n      <!-- Positive -->\n      <g transform=\"translate(28.476563 531.542344)rotate(-90)scale(0.1 -0.1)\">\n       <use xlink:href=\"#DejaVuSans-80\"/>\n       <use x=\"60.255859\" xlink:href=\"#DejaVuSans-111\"/>\n       <use x=\"121.4375\" xlink:href=\"#DejaVuSans-115\"/>\n       <use x=\"173.537109\" xlink:href=\"#DejaVuSans-105\"/>\n       <use x=\"201.320312\" xlink:href=\"#DejaVuSans-116\"/>\n       <use x=\"240.529297\" xlink:href=\"#DejaVuSans-105\"/>\n       <use x=\"268.3125\" xlink:href=\"#DejaVuSans-118\"/>\n       <use x=\"327.492188\" xlink:href=\"#DejaVuSans-101\"/>\n      </g>\n     </g>\n    </g>\n    <g id=\"text_12\">\n     <!-- Actual -->\n     <defs>\n      <path d=\"M 34.1875 63.1875 \nL 20.796875 26.90625 \nL 47.609375 26.90625 \nz\nM 28.609375 72.90625 \nL 39.796875 72.90625 \nL 67.578125 0 \nL 57.328125 0 \nL 50.6875 18.703125 \nL 17.828125 18.703125 \nL 11.1875 0 \nL 0.78125 0 \nz\n\" id=\"DejaVuSans-65\"/>\n     </defs>\n     <g transform=\"translate(14.798438 294.750781)rotate(-90)scale(0.1 -0.1)\">\n      <use xlink:href=\"#DejaVuSans-65\"/>\n      <use x=\"68.392578\" xlink:href=\"#DejaVuSans-99\"/>\n      <use x=\"123.373047\" xlink:href=\"#DejaVuSans-116\"/>\n      <use x=\"162.582031\" xlink:href=\"#DejaVuSans-117\"/>\n      <use x=\"225.960938\" xlink:href=\"#DejaVuSans-97\"/>\n      <use x=\"287.240234\" xlink:href=\"#DejaVuSans-108\"/>\n     </g>\n    </g>\n   </g>\n   <g id=\"text_13\">\n    <!-- 331 -->\n    <defs>\n     <path d=\"M 40.578125 39.3125 \nQ 47.65625 37.796875 51.625 33 \nQ 55.609375 28.21875 55.609375 21.1875 \nQ 55.609375 10.40625 48.1875 4.484375 \nQ 40.765625 -1.421875 27.09375 -1.421875 \nQ 22.515625 -1.421875 17.65625 -0.515625 \nQ 12.796875 0.390625 7.625 2.203125 \nL 7.625 11.71875 \nQ 11.71875 9.328125 16.59375 8.109375 \nQ 21.484375 6.890625 26.8125 6.890625 \nQ 36.078125 6.890625 40.9375 10.546875 \nQ 45.796875 14.203125 45.796875 21.1875 \nQ 45.796875 27.640625 41.28125 31.265625 \nQ 36.765625 34.90625 28.71875 34.90625 \nL 20.21875 34.90625 \nL 20.21875 43.015625 \nL 29.109375 43.015625 \nQ 36.375 43.015625 40.234375 45.921875 \nQ 44.09375 48.828125 44.09375 54.296875 \nQ 44.09375 59.90625 40.109375 62.90625 \nQ 36.140625 65.921875 28.71875 65.921875 \nQ 24.65625 65.921875 20.015625 65.03125 \nQ 15.375 64.15625 9.8125 62.3125 \nL 9.8125 71.09375 \nQ 15.4375 72.65625 20.34375 73.4375 \nQ 25.25 74.21875 29.59375 74.21875 \nQ 40.828125 74.21875 47.359375 69.109375 \nQ 53.90625 64.015625 53.90625 55.328125 \nQ 53.90625 49.265625 50.4375 45.09375 \nQ 46.96875 40.921875 40.578125 39.3125 \nz\n\" id=\"DejaVuSans-51\"/>\n     <path d=\"M 12.40625 8.296875 \nL 28.515625 8.296875 \nL 28.515625 63.921875 \nL 10.984375 60.40625 \nL 10.984375 69.390625 \nL 28.421875 72.90625 \nL 38.28125 72.90625 \nL 38.28125 8.296875 \nL 54.390625 8.296875 \nL 54.390625 0 \nL 12.40625 0 \nz\n\" id=\"DejaVuSans-49\"/>\n    </defs>\n    <g style=\"fill:#ffffff;\" transform=\"translate(72.6525 64.319375)scale(0.1 -0.1)\">\n     <use xlink:href=\"#DejaVuSans-51\"/>\n     <use x=\"63.623047\" xlink:href=\"#DejaVuSans-51\"/>\n     <use x=\"127.246094\" xlink:href=\"#DejaVuSans-49\"/>\n    </g>\n   </g>\n   <g id=\"text_14\">\n    <!-- 4 -->\n    <defs>\n     <path d=\"M 37.796875 64.3125 \nL 12.890625 25.390625 \nL 37.796875 25.390625 \nz\nM 35.203125 72.90625 \nL 47.609375 72.90625 \nL 47.609375 25.390625 \nL 58.015625 25.390625 \nL 58.015625 17.1875 \nL 47.609375 17.1875 \nL 47.609375 0 \nL 37.796875 0 \nL 37.796875 17.1875 \nL 4.890625 17.1875 \nL 4.890625 26.703125 \nz\n\" id=\"DejaVuSans-52\"/>\n    </defs>\n    <g style=\"fill:#ffffff;\" transform=\"translate(168.295 64.319375)scale(0.1 -0.1)\">\n     <use xlink:href=\"#DejaVuSans-52\"/>\n    </g>\n   </g>\n   <g id=\"text_15\">\n    <!-- 181 -->\n    <defs>\n     <path d=\"M 31.78125 34.625 \nQ 24.75 34.625 20.71875 30.859375 \nQ 16.703125 27.09375 16.703125 20.515625 \nQ 16.703125 13.921875 20.71875 10.15625 \nQ 24.75 6.390625 31.78125 6.390625 \nQ 38.8125 6.390625 42.859375 10.171875 \nQ 46.921875 13.96875 46.921875 20.515625 \nQ 46.921875 27.09375 42.890625 30.859375 \nQ 38.875 34.625 31.78125 34.625 \nz\nM 21.921875 38.8125 \nQ 15.578125 40.375 12.03125 44.71875 \nQ 8.5 49.078125 8.5 55.328125 \nQ 8.5 64.0625 14.71875 69.140625 \nQ 20.953125 74.21875 31.78125 74.21875 \nQ 42.671875 74.21875 48.875 69.140625 \nQ 55.078125 64.0625 55.078125 55.328125 \nQ 55.078125 49.078125 51.53125 44.71875 \nQ 48 40.375 41.703125 38.8125 \nQ 48.828125 37.15625 52.796875 32.3125 \nQ 56.78125 27.484375 56.78125 20.515625 \nQ 56.78125 9.90625 50.3125 4.234375 \nQ 43.84375 -1.421875 31.78125 -1.421875 \nQ 19.734375 -1.421875 13.25 4.234375 \nQ 6.78125 9.90625 6.78125 20.515625 \nQ 6.78125 27.484375 10.78125 32.3125 \nQ 14.796875 37.15625 21.921875 38.8125 \nz\nM 18.3125 54.390625 \nQ 18.3125 48.734375 21.84375 45.5625 \nQ 25.390625 42.390625 31.78125 42.390625 \nQ 38.140625 42.390625 41.71875 45.5625 \nQ 45.3125 48.734375 45.3125 54.390625 \nQ 45.3125 60.0625 41.71875 63.234375 \nQ 38.140625 66.40625 31.78125 66.40625 \nQ 25.390625 66.40625 21.84375 63.234375 \nQ 18.3125 60.0625 18.3125 54.390625 \nz\n\" id=\"DejaVuSans-56\"/>\n    </defs>\n    <g style=\"fill:#ffffff;\" transform=\"translate(251.2125 64.319375)scale(0.1 -0.1)\">\n     <use xlink:href=\"#DejaVuSans-49\"/>\n     <use x=\"63.623047\" xlink:href=\"#DejaVuSans-56\"/>\n     <use x=\"127.246094\" xlink:href=\"#DejaVuSans-49\"/>\n    </g>\n   </g>\n   <g id=\"text_16\">\n    <!-- 35 -->\n    <defs>\n     <path d=\"M 10.796875 72.90625 \nL 49.515625 72.90625 \nL 49.515625 64.59375 \nL 19.828125 64.59375 \nL 19.828125 46.734375 \nQ 21.96875 47.46875 24.109375 47.828125 \nQ 26.265625 48.1875 28.421875 48.1875 \nQ 40.625 48.1875 47.75 41.5 \nQ 54.890625 34.8125 54.890625 23.390625 \nQ 54.890625 11.625 47.5625 5.09375 \nQ 40.234375 -1.421875 26.90625 -1.421875 \nQ 22.3125 -1.421875 17.546875 -0.640625 \nQ 12.796875 0.140625 7.71875 1.703125 \nL 7.71875 11.625 \nQ 12.109375 9.234375 16.796875 8.0625 \nQ 21.484375 6.890625 26.703125 6.890625 \nQ 35.15625 6.890625 40.078125 11.328125 \nQ 45.015625 15.765625 45.015625 23.390625 \nQ 45.015625 31 40.078125 35.4375 \nQ 35.15625 39.890625 26.703125 39.890625 \nQ 22.75 39.890625 18.8125 39.015625 \nQ 14.890625 38.140625 10.796875 36.28125 \nz\n\" id=\"DejaVuSans-53\"/>\n    </defs>\n    <g style=\"fill:#ffffff;\" transform=\"translate(343.67375 64.319375)scale(0.1 -0.1)\">\n     <use xlink:href=\"#DejaVuSans-51\"/>\n     <use x=\"63.623047\" xlink:href=\"#DejaVuSans-53\"/>\n    </g>\n   </g>\n   <g id=\"text_17\">\n    <!-- 41 -->\n    <g style=\"fill:#ffffff;\" transform=\"translate(432.95375 64.319375)scale(0.1 -0.1)\">\n     <use xlink:href=\"#DejaVuSans-52\"/>\n     <use x=\"63.623047\" xlink:href=\"#DejaVuSans-49\"/>\n    </g>\n   </g>\n   <g id=\"text_18\">\n    <!-- 12 -->\n    <defs>\n     <path d=\"M 19.1875 8.296875 \nL 53.609375 8.296875 \nL 53.609375 0 \nL 7.328125 0 \nL 7.328125 8.296875 \nQ 12.9375 14.109375 22.625 23.890625 \nQ 32.328125 33.6875 34.8125 36.53125 \nQ 39.546875 41.84375 41.421875 45.53125 \nQ 43.3125 49.21875 43.3125 52.78125 \nQ 43.3125 58.59375 39.234375 62.25 \nQ 35.15625 65.921875 28.609375 65.921875 \nQ 23.96875 65.921875 18.8125 64.3125 \nQ 13.671875 62.703125 7.8125 59.421875 \nL 7.8125 69.390625 \nQ 13.765625 71.78125 18.9375 73 \nQ 24.125 74.21875 28.421875 74.21875 \nQ 39.75 74.21875 46.484375 68.546875 \nQ 53.21875 62.890625 53.21875 53.421875 \nQ 53.21875 48.921875 51.53125 44.890625 \nQ 49.859375 40.875 45.40625 35.40625 \nQ 44.1875 33.984375 37.640625 27.21875 \nQ 31.109375 20.453125 19.1875 8.296875 \nz\n\" id=\"DejaVuSans-50\"/>\n    </defs>\n    <g style=\"fill:#ffffff;\" transform=\"translate(75.83375 173.039375)scale(0.1 -0.1)\">\n     <use xlink:href=\"#DejaVuSans-49\"/>\n     <use x=\"63.623047\" xlink:href=\"#DejaVuSans-50\"/>\n    </g>\n   </g>\n   <g id=\"text_19\">\n    <!-- 369 -->\n    <defs>\n     <path d=\"M 33.015625 40.375 \nQ 26.375 40.375 22.484375 35.828125 \nQ 18.609375 31.296875 18.609375 23.390625 \nQ 18.609375 15.53125 22.484375 10.953125 \nQ 26.375 6.390625 33.015625 6.390625 \nQ 39.65625 6.390625 43.53125 10.953125 \nQ 47.40625 15.53125 47.40625 23.390625 \nQ 47.40625 31.296875 43.53125 35.828125 \nQ 39.65625 40.375 33.015625 40.375 \nz\nM 52.59375 71.296875 \nL 52.59375 62.3125 \nQ 48.875 64.0625 45.09375 64.984375 \nQ 41.3125 65.921875 37.59375 65.921875 \nQ 27.828125 65.921875 22.671875 59.328125 \nQ 17.53125 52.734375 16.796875 39.40625 \nQ 19.671875 43.65625 24.015625 45.921875 \nQ 28.375 48.1875 33.59375 48.1875 \nQ 44.578125 48.1875 50.953125 41.515625 \nQ 57.328125 34.859375 57.328125 23.390625 \nQ 57.328125 12.15625 50.6875 5.359375 \nQ 44.046875 -1.421875 33.015625 -1.421875 \nQ 20.359375 -1.421875 13.671875 8.265625 \nQ 6.984375 17.96875 6.984375 36.375 \nQ 6.984375 53.65625 15.1875 63.9375 \nQ 23.390625 74.21875 37.203125 74.21875 \nQ 40.921875 74.21875 44.703125 73.484375 \nQ 48.484375 72.75 52.59375 71.296875 \nz\n\" id=\"DejaVuSans-54\"/>\n     <path d=\"M 10.984375 1.515625 \nL 10.984375 10.5 \nQ 14.703125 8.734375 18.5 7.8125 \nQ 22.3125 6.890625 25.984375 6.890625 \nQ 35.75 6.890625 40.890625 13.453125 \nQ 46.046875 20.015625 46.78125 33.40625 \nQ 43.953125 29.203125 39.59375 26.953125 \nQ 35.25 24.703125 29.984375 24.703125 \nQ 19.046875 24.703125 12.671875 31.3125 \nQ 6.296875 37.9375 6.296875 49.421875 \nQ 6.296875 60.640625 12.9375 67.421875 \nQ 19.578125 74.21875 30.609375 74.21875 \nQ 43.265625 74.21875 49.921875 64.515625 \nQ 56.59375 54.828125 56.59375 36.375 \nQ 56.59375 19.140625 48.40625 8.859375 \nQ 40.234375 -1.421875 26.421875 -1.421875 \nQ 22.703125 -1.421875 18.890625 -0.6875 \nQ 15.09375 0.046875 10.984375 1.515625 \nz\nM 30.609375 32.421875 \nQ 37.25 32.421875 41.125 36.953125 \nQ 45.015625 41.5 45.015625 49.421875 \nQ 45.015625 57.28125 41.125 61.84375 \nQ 37.25 66.40625 30.609375 66.40625 \nQ 23.96875 66.40625 20.09375 61.84375 \nQ 16.21875 57.28125 16.21875 49.421875 \nQ 16.21875 41.5 20.09375 36.953125 \nQ 23.96875 32.421875 30.609375 32.421875 \nz\n\" id=\"DejaVuSans-57\"/>\n    </defs>\n    <g style=\"fill:#262626;\" transform=\"translate(161.9325 173.039375)scale(0.1 -0.1)\">\n     <use xlink:href=\"#DejaVuSans-51\"/>\n     <use x=\"63.623047\" xlink:href=\"#DejaVuSans-54\"/>\n     <use x=\"127.246094\" xlink:href=\"#DejaVuSans-57\"/>\n    </g>\n   </g>\n   <g id=\"text_20\">\n    <!-- 25 -->\n    <g style=\"fill:#ffffff;\" transform=\"translate(254.39375 173.039375)scale(0.1 -0.1)\">\n     <use xlink:href=\"#DejaVuSans-50\"/>\n     <use x=\"63.623047\" xlink:href=\"#DejaVuSans-53\"/>\n    </g>\n   </g>\n   <g id=\"text_21\">\n    <!-- 20 -->\n    <defs>\n     <path d=\"M 31.78125 66.40625 \nQ 24.171875 66.40625 20.328125 58.90625 \nQ 16.5 51.421875 16.5 36.375 \nQ 16.5 21.390625 20.328125 13.890625 \nQ 24.171875 6.390625 31.78125 6.390625 \nQ 39.453125 6.390625 43.28125 13.890625 \nQ 47.125 21.390625 47.125 36.375 \nQ 47.125 51.421875 43.28125 58.90625 \nQ 39.453125 66.40625 31.78125 66.40625 \nz\nM 31.78125 74.21875 \nQ 44.046875 74.21875 50.515625 64.515625 \nQ 56.984375 54.828125 56.984375 36.375 \nQ 56.984375 17.96875 50.515625 8.265625 \nQ 44.046875 -1.421875 31.78125 -1.421875 \nQ 19.53125 -1.421875 13.0625 8.265625 \nQ 6.59375 17.96875 6.59375 36.375 \nQ 6.59375 54.828125 13.0625 64.515625 \nQ 19.53125 74.21875 31.78125 74.21875 \nz\n\" id=\"DejaVuSans-48\"/>\n    </defs>\n    <g style=\"fill:#ffffff;\" transform=\"translate(343.67375 173.039375)scale(0.1 -0.1)\">\n     <use xlink:href=\"#DejaVuSans-50\"/>\n     <use x=\"63.623047\" xlink:href=\"#DejaVuSans-48\"/>\n    </g>\n   </g>\n   <g id=\"text_22\">\n    <!-- 173 -->\n    <defs>\n     <path d=\"M 8.203125 72.90625 \nL 55.078125 72.90625 \nL 55.078125 68.703125 \nL 28.609375 0 \nL 18.3125 0 \nL 43.21875 64.59375 \nL 8.203125 64.59375 \nz\n\" id=\"DejaVuSans-55\"/>\n    </defs>\n    <g style=\"fill:#ffffff;\" transform=\"translate(429.7725 173.039375)scale(0.1 -0.1)\">\n     <use xlink:href=\"#DejaVuSans-49\"/>\n     <use x=\"63.623047\" xlink:href=\"#DejaVuSans-55\"/>\n     <use x=\"127.246094\" xlink:href=\"#DejaVuSans-51\"/>\n    </g>\n   </g>\n   <g id=\"text_23\">\n    <!-- 225 -->\n    <g style=\"fill:#ffffff;\" transform=\"translate(72.6525 281.759375)scale(0.1 -0.1)\">\n     <use xlink:href=\"#DejaVuSans-50\"/>\n     <use x=\"63.623047\" xlink:href=\"#DejaVuSans-50\"/>\n     <use x=\"127.246094\" xlink:href=\"#DejaVuSans-53\"/>\n    </g>\n   </g>\n   <g id=\"text_24\">\n    <!-- 32 -->\n    <g style=\"fill:#ffffff;\" transform=\"translate(165.11375 281.759375)scale(0.1 -0.1)\">\n     <use xlink:href=\"#DejaVuSans-51\"/>\n     <use x=\"63.623047\" xlink:href=\"#DejaVuSans-50\"/>\n    </g>\n   </g>\n   <g id=\"text_25\">\n    <!-- 413 -->\n    <g style=\"fill:#262626;\" transform=\"translate(251.2125 281.759375)scale(0.1 -0.1)\">\n     <use xlink:href=\"#DejaVuSans-52\"/>\n     <use x=\"63.623047\" xlink:href=\"#DejaVuSans-49\"/>\n     <use x=\"127.246094\" xlink:href=\"#DejaVuSans-51\"/>\n    </g>\n   </g>\n   <g id=\"text_26\">\n    <!-- 164 -->\n    <g style=\"fill:#ffffff;\" transform=\"translate(340.4925 281.759375)scale(0.1 -0.1)\">\n     <use xlink:href=\"#DejaVuSans-49\"/>\n     <use x=\"63.623047\" xlink:href=\"#DejaVuSans-54\"/>\n     <use x=\"127.246094\" xlink:href=\"#DejaVuSans-52\"/>\n    </g>\n   </g>\n   <g id=\"text_27\">\n    <!-- 207 -->\n    <g style=\"fill:#ffffff;\" transform=\"translate(429.7725 281.759375)scale(0.1 -0.1)\">\n     <use xlink:href=\"#DejaVuSans-50\"/>\n     <use x=\"63.623047\" xlink:href=\"#DejaVuSans-48\"/>\n     <use x=\"127.246094\" xlink:href=\"#DejaVuSans-55\"/>\n    </g>\n   </g>\n   <g id=\"text_28\">\n    <!-- 4 -->\n    <g style=\"fill:#ffffff;\" transform=\"translate(79.015 390.479375)scale(0.1 -0.1)\">\n     <use xlink:href=\"#DejaVuSans-52\"/>\n    </g>\n   </g>\n   <g id=\"text_29\">\n    <!-- 13 -->\n    <g style=\"fill:#ffffff;\" transform=\"translate(165.11375 390.479375)scale(0.1 -0.1)\">\n     <use xlink:href=\"#DejaVuSans-49\"/>\n     <use x=\"63.623047\" xlink:href=\"#DejaVuSans-51\"/>\n    </g>\n   </g>\n   <g id=\"text_30\">\n    <!-- 83 -->\n    <g style=\"fill:#ffffff;\" transform=\"translate(254.39375 390.479375)scale(0.1 -0.1)\">\n     <use xlink:href=\"#DejaVuSans-56\"/>\n     <use x=\"63.623047\" xlink:href=\"#DejaVuSans-51\"/>\n    </g>\n   </g>\n   <g id=\"text_31\">\n    <!-- 441 -->\n    <g style=\"fill:#262626;\" transform=\"translate(340.4925 390.479375)scale(0.1 -0.1)\">\n     <use xlink:href=\"#DejaVuSans-52\"/>\n     <use x=\"63.623047\" xlink:href=\"#DejaVuSans-52\"/>\n     <use x=\"127.246094\" xlink:href=\"#DejaVuSans-49\"/>\n    </g>\n   </g>\n   <g id=\"text_32\">\n    <!-- 75 -->\n    <g style=\"fill:#ffffff;\" transform=\"translate(432.95375 390.479375)scale(0.1 -0.1)\">\n     <use xlink:href=\"#DejaVuSans-55\"/>\n     <use x=\"63.623047\" xlink:href=\"#DejaVuSans-53\"/>\n    </g>\n   </g>\n   <g id=\"text_33\">\n    <!-- 39 -->\n    <g style=\"fill:#ffffff;\" transform=\"translate(75.83375 499.199375)scale(0.1 -0.1)\">\n     <use xlink:href=\"#DejaVuSans-51\"/>\n     <use x=\"63.623047\" xlink:href=\"#DejaVuSans-57\"/>\n    </g>\n   </g>\n   <g id=\"text_34\">\n    <!-- 185 -->\n    <g style=\"fill:#ffffff;\" transform=\"translate(161.9325 499.199375)scale(0.1 -0.1)\">\n     <use xlink:href=\"#DejaVuSans-49\"/>\n     <use x=\"63.623047\" xlink:href=\"#DejaVuSans-56\"/>\n     <use x=\"127.246094\" xlink:href=\"#DejaVuSans-53\"/>\n    </g>\n   </g>\n   <g id=\"text_35\">\n    <!-- 130 -->\n    <g style=\"fill:#ffffff;\" transform=\"translate(251.2125 499.199375)scale(0.1 -0.1)\">\n     <use xlink:href=\"#DejaVuSans-49\"/>\n     <use x=\"63.623047\" xlink:href=\"#DejaVuSans-51\"/>\n     <use x=\"127.246094\" xlink:href=\"#DejaVuSans-48\"/>\n    </g>\n   </g>\n   <g id=\"text_36\">\n    <!-- 118 -->\n    <g style=\"fill:#ffffff;\" transform=\"translate(340.4925 499.199375)scale(0.1 -0.1)\">\n     <use xlink:href=\"#DejaVuSans-49\"/>\n     <use x=\"63.623047\" xlink:href=\"#DejaVuSans-49\"/>\n     <use x=\"127.246094\" xlink:href=\"#DejaVuSans-56\"/>\n    </g>\n   </g>\n   <g id=\"text_37\">\n    <!-- 475 -->\n    <g style=\"fill:#262626;\" transform=\"translate(429.7725 499.199375)scale(0.1 -0.1)\">\n     <use xlink:href=\"#DejaVuSans-52\"/>\n     <use x=\"63.623047\" xlink:href=\"#DejaVuSans-55\"/>\n     <use x=\"127.246094\" xlink:href=\"#DejaVuSans-53\"/>\n    </g>\n   </g>\n  </g>\n  <g id=\"axes_2\">\n   <g id=\"patch_3\">\n    <path clip-path=\"url(#p8926182333)\" d=\"M 511.85625 550.8 \nL 511.85625 548.676562 \nL 511.85625 9.323438 \nL 511.85625 7.2 \nL 539.03625 7.2 \nL 539.03625 9.323438 \nL 539.03625 548.676562 \nL 539.03625 550.8 \nz\n\" style=\"fill:#ffffff;stroke:#ffffff;stroke-linejoin:miter;stroke-width:0.01;\"/>\n   </g>\n   <image height=\"544\" id=\"image98861110ad\" transform=\"scale(1 -1)translate(0 -544)\" width=\"27\" x=\"512\" xlink:href=\"data:image/png;base64,\niVBORw0KGgoAAAANSUhEUgAAABsAAAIgCAYAAAB09hISAAAABHNCSVQICAgIfAhkiAAAAoJJREFUeJztnIFtAzEMxOyPs0T23zMZIoQAE+QCwuHuJPdbdL/en+8a4pkatNZaZw8OG1a257SlDOHspVWm9ezRKvOmUetZpUY4jzb6Ys+0ysSe1TOAngX3DWtdIbSuEPIMYdqzuXmdGATv1i8gCN6A5BlCniHkGUJPufuG9dZHyDOE1hVCaUQQe6ZV1h8MIfQiRqjUCJ0YhHqGcCan1bP7hlVqhEqNYE6jdV2J02jeIFJlRR+h6CP0hQdB/IWnDUKQZ/cNKyAIHU8E8/HUeubtWbuRQH0852hdIXijXxoRSiNCaUQQH89n7H9CVWoIdannaF0hlEaEtv59w4o+QsoQvKWuZwgpQzjb2rMCgmBWZo1+JwahNCKo0zhnmvl4aqPvXVfiUn+lpS6NCJ0YBO/Wn46+NiCDw1KGUBoR8gzBfDwHXzwdT4TWFcLZg7+ymC61VZn45zOvZ1plZs/mhpmfBdqAFH2C0ohgTuPg1816huD1rHWFoF5Xc8NKI4J3XXViEFJ237Cij9DxRFAfz7lh9QxB7Nmy9qyAIKQMYbjUWmV5RpBnCF7PpgNi/Z8u2oDkGcK0MqtnpZGgNN43TB39lP3P9GdbqzKvZ2Zlc/Py7L5hHU+E6d9YVOr/SRnC2Z0YgDbIfcPMAanUAJUaQexZx5Ognt03zBwQb6nFHze1nomVadNoPTHeNPbZFqHoI6QMoQcPQhsEweyZVVnrCsEbELOyFjFAniHkGYL5eHoD4lVmjX6eIeQZQp4hiI/n3q+xYQUEwaysdQWQZwhnPdrdaPWsUiN4A9KDB6E0IuQZQs+C+4apA2JVtvMMoJ4heBex2jOpshYxgjcg6lJLF/HosB+Uhy//WAyOnwAAAABJRU5ErkJggg==\" y=\"-6\"/>\n   <g id=\"matplotlib.axis_3\"/>\n   <g id=\"matplotlib.axis_4\">\n    <g id=\"ytick_6\">\n     <g id=\"line2d_11\">\n      <defs>\n       <path d=\"M 0 0 \nL 3.5 0 \n\" id=\"m50d735e64f\" style=\"stroke:#000000;stroke-width:0.8;\"/>\n      </defs>\n      <g>\n       <use style=\"stroke:#000000;stroke-width:0.8;\" x=\"539.03625\" xlink:href=\"#m50d735e64f\" y=\"463.08535\"/>\n      </g>\n     </g>\n     <g id=\"text_38\">\n      <!-- 80 -->\n      <g transform=\"translate(546.03625 466.884569)scale(0.1 -0.1)\">\n       <use xlink:href=\"#DejaVuSans-56\"/>\n       <use x=\"63.623047\" xlink:href=\"#DejaVuSans-48\"/>\n      </g>\n     </g>\n    </g>\n    <g id=\"ytick_7\">\n     <g id=\"line2d_12\">\n      <g>\n       <use style=\"stroke:#000000;stroke-width:0.8;\" x=\"539.03625\" xlink:href=\"#m50d735e64f\" y=\"370.75414\"/>\n      </g>\n     </g>\n     <g id=\"text_39\">\n      <!-- 160 -->\n      <g transform=\"translate(546.03625 374.553359)scale(0.1 -0.1)\">\n       <use xlink:href=\"#DejaVuSans-49\"/>\n       <use x=\"63.623047\" xlink:href=\"#DejaVuSans-54\"/>\n       <use x=\"127.246094\" xlink:href=\"#DejaVuSans-48\"/>\n      </g>\n     </g>\n    </g>\n    <g id=\"ytick_8\">\n     <g id=\"line2d_13\">\n      <g>\n       <use style=\"stroke:#000000;stroke-width:0.8;\" x=\"539.03625\" xlink:href=\"#m50d735e64f\" y=\"278.42293\"/>\n      </g>\n     </g>\n     <g id=\"text_40\">\n      <!-- 240 -->\n      <g transform=\"translate(546.03625 282.222149)scale(0.1 -0.1)\">\n       <use xlink:href=\"#DejaVuSans-50\"/>\n       <use x=\"63.623047\" xlink:href=\"#DejaVuSans-52\"/>\n       <use x=\"127.246094\" xlink:href=\"#DejaVuSans-48\"/>\n      </g>\n     </g>\n    </g>\n    <g id=\"ytick_9\">\n     <g id=\"line2d_14\">\n      <g>\n       <use style=\"stroke:#000000;stroke-width:0.8;\" x=\"539.03625\" xlink:href=\"#m50d735e64f\" y=\"186.09172\"/>\n      </g>\n     </g>\n     <g id=\"text_41\">\n      <!-- 320 -->\n      <g transform=\"translate(546.03625 189.890938)scale(0.1 -0.1)\">\n       <use xlink:href=\"#DejaVuSans-51\"/>\n       <use x=\"63.623047\" xlink:href=\"#DejaVuSans-50\"/>\n       <use x=\"127.246094\" xlink:href=\"#DejaVuSans-48\"/>\n      </g>\n     </g>\n    </g>\n    <g id=\"ytick_10\">\n     <g id=\"line2d_15\">\n      <g>\n       <use style=\"stroke:#000000;stroke-width:0.8;\" x=\"539.03625\" xlink:href=\"#m50d735e64f\" y=\"93.76051\"/>\n      </g>\n     </g>\n     <g id=\"text_42\">\n      <!-- 400 -->\n      <g transform=\"translate(546.03625 97.559728)scale(0.1 -0.1)\">\n       <use xlink:href=\"#DejaVuSans-52\"/>\n       <use x=\"63.623047\" xlink:href=\"#DejaVuSans-48\"/>\n       <use x=\"127.246094\" xlink:href=\"#DejaVuSans-48\"/>\n      </g>\n     </g>\n    </g>\n   </g>\n   <g id=\"patch_4\">\n    <path d=\"M 511.85625 550.8 \nL 511.85625 548.676562 \nL 511.85625 9.323438 \nL 511.85625 7.2 \nL 539.03625 7.2 \nL 539.03625 9.323438 \nL 539.03625 548.676562 \nL 539.03625 550.8 \nz\n\" style=\"fill:none;\"/>\n   </g>\n  </g>\n </g>\n <defs>\n  <clipPath id=\"p35c8aacec4\">\n   <rect height=\"543.6\" width=\"446.4\" x=\"37.55625\" y=\"7.2\"/>\n  </clipPath>\n  <clipPath id=\"p8926182333\">\n   <rect height=\"543.6\" width=\"27.18\" x=\"511.85625\" y=\"7.2\"/>\n  </clipPath>\n </defs>\n</svg>\n",
      "image/png": "[encoded data removed]"
     },
     "metadata": {
      "needs_background": "light"
     }
    }
   ],
   "source": [
    "y_pred = svm_model.predict(X_test)\n",
    "\n",
    "# generate the confusion matrix\n",
    "conf_mat = confusion_matrix(y_test, y_pred)\n",
    "fig, ax = plt.subplots(figsize=(10,10))\n",
    "sns.heatmap(conf_mat, annot=True, fmt='d',\n",
    "            xticklabels=labels.keys(), yticklabels=labels.keys())\n",
    "plt.ylabel('Actual')\n",
    "plt.xlabel('Predicted')\n",
    "plt.show()"
   ]
  },
  {
   "source": [
    "We have seen that with a basic Linear SVM we get an accuracy of 0.52, we have set this accuracy with `n-grams` of one, two and three word combinations. "
   ],
   "cell_type": "markdown",
   "metadata": {}
  },
  {
   "source": [
    "## Hyper Parameter Opt. different models"
   ],
   "cell_type": "markdown",
   "metadata": {}
  },
  {
   "source": [
    "## SVM HPO\n",
    "\n",
    "Training with an rbf kernel never finishes, since the number of operations for this size of the matrix is simply huge, traied for 10hours straight and still didnt finish. While the linear one finishes in seconds.\n",
    "\n",
    "with max 100 components it did, but the accuracy obtained with it is way lower.\n",
    "**Trying PCA decomposition**"
   ],
   "cell_type": "markdown",
   "metadata": {}
  },
  {
   "cell_type": "code",
   "execution_count": 18,
   "metadata": {},
   "outputs": [
    {
     "output_type": "execute_result",
     "data": {
      "text/plain": [
       "((41087, 100), (3795, 100))"
      ]
     },
     "metadata": {},
     "execution_count": 18
    }
   ],
   "source": [
    "pca = PCA(n_components=100)\n",
    "X_pca = pca.fit_transform(X_train)\n",
    "Xtest_pca = pca.transform(X_test)\n",
    "X_pca.shape, Xtest_pca.shape"
   ]
  },
  {
   "cell_type": "code",
   "execution_count": 19,
   "metadata": {},
   "outputs": [
    {
     "output_type": "execute_result",
     "data": {
      "text/plain": [
       "0.3691699604743083"
      ]
     },
     "metadata": {},
     "execution_count": 19
    }
   ],
   "source": [
    "svc= LinearSVC()\n",
    "svc.fit(X_pca, y_train)\n",
    "svc.score(Xtest_pca, y_test)"
   ]
  },
  {
   "cell_type": "code",
   "execution_count": null,
   "metadata": {},
   "outputs": [],
   "source": []
  },
  {
   "source": [
    "## Logistic Regression"
   ],
   "cell_type": "markdown",
   "metadata": {}
  },
  {
   "cell_type": "code",
   "execution_count": 15,
   "metadata": {},
   "outputs": [
    {
     "output_type": "execute_result",
     "data": {
      "text/plain": [
       "0.5346508563899868"
      ]
     },
     "metadata": {},
     "execution_count": 15
    }
   ],
   "source": [
    "# simple lr with saga solver takes waay more time and gives the same result\n",
    "lr = LogisticRegression() #solver='saga')\n",
    "lr.fit(X_train, y_train)\n",
    "lr.score(X_test, y_test)"
   ]
  },
  {
   "source": [
    "hyper parameter tunning C"
   ],
   "cell_type": "markdown",
   "metadata": {}
  },
  {
   "cell_type": "code",
   "execution_count": 58,
   "metadata": {},
   "outputs": [
    {
     "output_type": "execute_result",
     "data": {
      "text/plain": [
       "{'C': 25}"
      ]
     },
     "metadata": {},
     "execution_count": 58
    }
   ],
   "source": [
    "# optimizing its parameters\n",
    "params = {'C' : [1, 10, 25, 30]}\n",
    "\n",
    "lr_model = RandomizedSearchCV(lr, params, cv=kfolds, n_jobs = -1)\n",
    "\n",
    "lr_model.fit(X_train, y_train)\n",
    "lr_model.best_params_"
   ]
  },
  {
   "cell_type": "code",
   "execution_count": 16,
   "metadata": {},
   "outputs": [
    {
     "output_type": "execute_result",
     "data": {
      "text/plain": [
       "LogisticRegression(C=25, class_weight=None, dual=False, fit_intercept=True,\n",
       "                   intercept_scaling=1, l1_ratio=None, max_iter=100,\n",
       "                   multi_class='warn', n_jobs=None, penalty='l2',\n",
       "                   random_state=None, solver='warn', tol=0.0001, verbose=0,\n",
       "                   warm_start=False)"
      ]
     },
     "metadata": {},
     "execution_count": 16
    }
   ],
   "source": [
    "# fitting the logistic regression with the parameters found in the HPO stage\n",
    "\n",
    "lr_model = LogisticRegression(C=25)\n",
    "lr_model.fit(X_train, y_train)"
   ]
  },
  {
   "cell_type": "code",
   "execution_count": 17,
   "metadata": {},
   "outputs": [
    {
     "output_type": "execute_result",
     "data": {
      "text/plain": [
       "0.5499341238471673"
      ]
     },
     "metadata": {},
     "execution_count": 17
    }
   ],
   "source": [
    "lr_model.score(X_test, y_test)"
   ]
  },
  {
   "source": [
    "## Xgboost + Optuna\n",
    "\n",
    "This process takes waay to long time to complete and it does not deliver good results, left for a whole night running it."
   ],
   "cell_type": "markdown",
   "metadata": {}
  },
  {
   "cell_type": "code",
   "execution_count": null,
   "metadata": {},
   "outputs": [],
   "source": [
    "# optimizing its parameters\n",
    "\n",
    "def objective(trial):\n",
    "    rf_opt = xgboost.set_params( learning_rate=trial.suggest_float(\"learning_rate\", 0.01,0.2),\n",
    "                   subsample = trial.suggest_categorical(\"subsample\", [0.4,0.5,0.6,0.7,0.75,0.8,0.85]),\n",
    "                   gamma = trial.suggest_float(\"gamma\", 0, 0.4),\n",
    "                   min_child_weight = trial.suggest_int(\"min_child_weight\",1,10),\n",
    "                   reg_alpha = trial.suggest_categorical(\"reg_alpha\", [0, 0.001, 0.005, 0.01, 0.05]))\n",
    "    \n",
    "    scores = cross_val_score(rf_opt, X_train, y_train, \n",
    "                              scoring='accuracy', \n",
    "                              n_jobs=2,\n",
    "                              cv=kfold)\n",
    "    return scores.mean() \n",
    "\n",
    "np.random.seed(0)\n",
    "rf_optuna = optuna.create_study(direction=\"maximize\")\n",
    "rf_optuna.optimize(objective, n_trials=20, n_jobs=4)"
   ]
  },
  {
   "source": [
    "## Naive Bayes\n",
    "\n",
    "Using gaussian naive bayes"
   ],
   "cell_type": "markdown",
   "metadata": {}
  },
  {
   "cell_type": "code",
   "execution_count": 46,
   "metadata": {},
   "outputs": [
    {
     "output_type": "execute_result",
     "data": {
      "text/plain": [
       "0.35046113306982873"
      ]
     },
     "metadata": {},
     "execution_count": 46
    }
   ],
   "source": [
    "# simple gaussian naive bayes model\n",
    "gnb = GaussianNB()\n",
    "gnb.fit(X_train, y_train)\n",
    "gnb.score(X_test, y_test)"
   ]
  },
  {
   "source": [
    "Using Multinomial Naive Bayes"
   ],
   "cell_type": "markdown",
   "metadata": {}
  },
  {
   "cell_type": "code",
   "execution_count": 19,
   "metadata": {},
   "outputs": [
    {
     "output_type": "execute_result",
     "data": {
      "text/plain": [
       "RandomizedSearchCV(cv=4, error_score='raise-deprecating',\n",
       "                   estimator=MultinomialNB(alpha=1.0, class_prior=None,\n",
       "                                           fit_prior=True),\n",
       "                   iid='warn', n_iter=10, n_jobs=-1,\n",
       "                   param_distributions={'alpha': [1e-06, 1e-05, 0.0001, 0.01,\n",
       "                                                  1]},\n",
       "                   pre_dispatch='2*n_jobs', random_state=None, refit=True,\n",
       "                   return_train_score=False, scoring=None, verbose=0)"
      ]
     },
     "metadata": {},
     "execution_count": 19
    }
   ],
   "source": [
    "# multinomial naive bayes model\n",
    "gnb = MultinomialNB()\n",
    "\n",
    "params = {'alpha': [1e-6, 1e-5, 1e-4, 1e-2, 1]}\n",
    "\n",
    "gnb_model = RandomizedSearchCV(gnb, params, cv=4, n_jobs = -1)\n",
    "\n",
    "gnb_model.fit(X_train, y_train)"
   ]
  },
  {
   "cell_type": "code",
   "execution_count": 20,
   "metadata": {},
   "outputs": [
    {
     "output_type": "execute_result",
     "data": {
      "text/plain": [
       "(0.4455862977602108, {'alpha': 0.01})"
      ]
     },
     "metadata": {},
     "execution_count": 20
    }
   ],
   "source": [
    "gnb_model.score(X_test, y_test), gnb_model.best_params_"
   ]
  },
  {
   "cell_type": "code",
   "execution_count": 38,
   "metadata": {},
   "outputs": [
    {
     "output_type": "execute_result",
     "data": {
      "text/plain": [
       "0.4455862977602108"
      ]
     },
     "metadata": {},
     "execution_count": 38
    }
   ],
   "source": [
    "# fitting the model with the parameters found above:\n",
    "\n",
    "mnb_model = MultinomialNB(alpha=0.01)\n",
    "mnb_model.fit(X_train, y_train)\n",
    "mnb_model.score(X_test, y_test)"
   ]
  },
  {
   "source": [
    "## Random Forest Classifier"
   ],
   "cell_type": "markdown",
   "metadata": {}
  },
  {
   "source": [
    "### Optimizing the HP"
   ],
   "cell_type": "markdown",
   "metadata": {}
  },
  {
   "cell_type": "code",
   "execution_count": 47,
   "metadata": {},
   "outputs": [
    {
     "output_type": "execute_result",
     "data": {
      "text/plain": [
       "RandomizedSearchCV(cv=3, error_score='raise-deprecating',\n",
       "                   estimator=RandomForestClassifier(bootstrap=True,\n",
       "                                                    class_weight=None,\n",
       "                                                    criterion='gini',\n",
       "                                                    max_depth=128,\n",
       "                                                    max_features='auto',\n",
       "                                                    max_leaf_nodes=None,\n",
       "                                                    min_impurity_decrease=0.0,\n",
       "                                                    min_impurity_split=None,\n",
       "                                                    min_samples_leaf=1,\n",
       "                                                    min_samples_split=2,\n",
       "                                                    min_weight_fraction_leaf=0.0,\n",
       "                                                    n_estimators=10,\n",
       "                                                    n_jobs=None,\n",
       "                                                    oob_score=False,\n",
       "                                                    random_state=0, verbose=0,\n",
       "                                                    warm_start=False),\n",
       "                   iid='warn', n_iter=10, n_jobs=None,\n",
       "                   param_distributions={'max_depth': [128, 256, 400, 600],\n",
       "                                        'min_samples_leaf': [2, 10],\n",
       "                                        'min_samples_split': [50, 100, 200,\n",
       "                                                              400]},\n",
       "                   pre_dispatch='2*n_jobs', random_state=None, refit=True,\n",
       "                   return_train_score=False, scoring=None, verbose=0)"
      ]
     },
     "metadata": {},
     "execution_count": 47
    }
   ],
   "source": [
    "params = {'max_depth': [128,256, 400, 600],\n",
    "          'min_samples_split': [50,100,200,400],\n",
    "          'min_samples_leaf': [2,10]}\n",
    "rf = RandomForestClassifier()\n",
    "\n",
    "rf_model = RandomizedSearchCV(rforest, params, cv = 3)\n",
    "rf_model.fit(X_train, y_train)"
   ]
  },
  {
   "cell_type": "code",
   "execution_count": 48,
   "metadata": {},
   "outputs": [
    {
     "output_type": "execute_result",
     "data": {
      "text/plain": [
       "0.4706192358366271"
      ]
     },
     "metadata": {},
     "execution_count": 48
    }
   ],
   "source": [
    "rf_model.score(X_test, y_test)"
   ]
  },
  {
   "cell_type": "code",
   "execution_count": 46,
   "metadata": {},
   "outputs": [
    {
     "output_type": "execute_result",
     "data": {
      "text/plain": [
       "{'min_samples_split': 100, 'min_samples_leaf': 2, 'max_depth': 256}"
      ]
     },
     "metadata": {},
     "execution_count": 46
    }
   ],
   "source": [
    "rf_model.best_params_"
   ]
  },
  {
   "cell_type": "code",
   "execution_count": 22,
   "metadata": {},
   "outputs": [
    {
     "output_type": "execute_result",
     "data": {
      "text/plain": [
       "0.4666666666666667"
      ]
     },
     "metadata": {},
     "execution_count": 22
    }
   ],
   "source": [
    "# fitting the RF classifier with the HP found with the optimization above\n",
    "rf_model = RandomForestClassifier(min_samples_split= 100, min_samples_leaf= 2, max_depth= 256)\n",
    "rf_model.fit(X_train, y_train)\n",
    "rf_model.score(X_test, y_test)"
   ]
  },
  {
   "source": [
    "## K-Nearest Neighbors\n",
    "\n",
    "Is not a very well suited algorithm for large datasets, specially if we have, like in our case, 3000 variables. "
   ],
   "cell_type": "markdown",
   "metadata": {}
  },
  {
   "cell_type": "code",
   "execution_count": 24,
   "metadata": {},
   "outputs": [
    {
     "output_type": "error",
     "ename": "KeyboardInterrupt",
     "evalue": "",
     "traceback": [
      "\u001b[0;31m---------------------------------------------------------------------------\u001b[0m",
      "\u001b[0;31mKeyboardInterrupt\u001b[0m                         Traceback (most recent call last)",
      "\u001b[0;32m<ipython-input-24-586d3027f467>\u001b[0m in \u001b[0;36m<module>\u001b[0;34m\u001b[0m\n\u001b[1;32m      5\u001b[0m \u001b[0mknn_model\u001b[0m \u001b[0;34m=\u001b[0m \u001b[0mRandomizedSearchCV\u001b[0m\u001b[0;34m(\u001b[0m\u001b[0mknn\u001b[0m\u001b[0;34m,\u001b[0m \u001b[0mparams\u001b[0m\u001b[0;34m,\u001b[0m \u001b[0mcv\u001b[0m\u001b[0;34m=\u001b[0m\u001b[0;36m4\u001b[0m\u001b[0;34m,\u001b[0m \u001b[0mn_jobs\u001b[0m \u001b[0;34m=\u001b[0m \u001b[0;34m-\u001b[0m\u001b[0;36m1\u001b[0m\u001b[0;34m)\u001b[0m\u001b[0;34m\u001b[0m\u001b[0;34m\u001b[0m\u001b[0m\n\u001b[1;32m      6\u001b[0m \u001b[0;34m\u001b[0m\u001b[0m\n\u001b[0;32m----> 7\u001b[0;31m \u001b[0mknn_model\u001b[0m\u001b[0;34m.\u001b[0m\u001b[0mfit\u001b[0m\u001b[0;34m(\u001b[0m\u001b[0mX_train\u001b[0m\u001b[0;34m,\u001b[0m \u001b[0my_train\u001b[0m\u001b[0;34m)\u001b[0m\u001b[0;34m\u001b[0m\u001b[0;34m\u001b[0m\u001b[0m\n\u001b[0m\u001b[1;32m      8\u001b[0m \u001b[0mknn_model\u001b[0m\u001b[0;34m.\u001b[0m\u001b[0mscore\u001b[0m\u001b[0;34m(\u001b[0m\u001b[0mX_train\u001b[0m\u001b[0;34m,\u001b[0m \u001b[0my_test\u001b[0m\u001b[0;34m)\u001b[0m\u001b[0;34m\u001b[0m\u001b[0;34m\u001b[0m\u001b[0m\n",
      "\u001b[0;32m/opt/anaconda3/lib/python3.7/site-packages/sklearn/model_selection/_search.py\u001b[0m in \u001b[0;36mfit\u001b[0;34m(self, X, y, groups, **fit_params)\u001b[0m\n\u001b[1;32m    686\u001b[0m                 \u001b[0;32mreturn\u001b[0m \u001b[0mresults\u001b[0m\u001b[0;34m\u001b[0m\u001b[0;34m\u001b[0m\u001b[0m\n\u001b[1;32m    687\u001b[0m \u001b[0;34m\u001b[0m\u001b[0m\n\u001b[0;32m--> 688\u001b[0;31m             \u001b[0mself\u001b[0m\u001b[0;34m.\u001b[0m\u001b[0m_run_search\u001b[0m\u001b[0;34m(\u001b[0m\u001b[0mevaluate_candidates\u001b[0m\u001b[0;34m)\u001b[0m\u001b[0;34m\u001b[0m\u001b[0;34m\u001b[0m\u001b[0m\n\u001b[0m\u001b[1;32m    689\u001b[0m \u001b[0;34m\u001b[0m\u001b[0m\n\u001b[1;32m    690\u001b[0m         \u001b[0;31m# For multi-metric evaluation, store the best_index_, best_params_ and\u001b[0m\u001b[0;34m\u001b[0m\u001b[0;34m\u001b[0m\u001b[0;34m\u001b[0m\u001b[0m\n",
      "\u001b[0;32m/opt/anaconda3/lib/python3.7/site-packages/sklearn/model_selection/_search.py\u001b[0m in \u001b[0;36m_run_search\u001b[0;34m(self, evaluate_candidates)\u001b[0m\n\u001b[1;32m   1467\u001b[0m         evaluate_candidates(ParameterSampler(\n\u001b[1;32m   1468\u001b[0m             \u001b[0mself\u001b[0m\u001b[0;34m.\u001b[0m\u001b[0mparam_distributions\u001b[0m\u001b[0;34m,\u001b[0m \u001b[0mself\u001b[0m\u001b[0;34m.\u001b[0m\u001b[0mn_iter\u001b[0m\u001b[0;34m,\u001b[0m\u001b[0;34m\u001b[0m\u001b[0;34m\u001b[0m\u001b[0m\n\u001b[0;32m-> 1469\u001b[0;31m             random_state=self.random_state))\n\u001b[0m",
      "\u001b[0;32m/opt/anaconda3/lib/python3.7/site-packages/sklearn/model_selection/_search.py\u001b[0m in \u001b[0;36mevaluate_candidates\u001b[0;34m(candidate_params)\u001b[0m\n\u001b[1;32m    665\u001b[0m                                \u001b[0;32mfor\u001b[0m \u001b[0mparameters\u001b[0m\u001b[0;34m,\u001b[0m \u001b[0;34m(\u001b[0m\u001b[0mtrain\u001b[0m\u001b[0;34m,\u001b[0m \u001b[0mtest\u001b[0m\u001b[0;34m)\u001b[0m\u001b[0;34m\u001b[0m\u001b[0;34m\u001b[0m\u001b[0m\n\u001b[1;32m    666\u001b[0m                                in product(candidate_params,\n\u001b[0;32m--> 667\u001b[0;31m                                           cv.split(X, y, groups)))\n\u001b[0m\u001b[1;32m    668\u001b[0m \u001b[0;34m\u001b[0m\u001b[0m\n\u001b[1;32m    669\u001b[0m                 \u001b[0;32mif\u001b[0m \u001b[0mlen\u001b[0m\u001b[0;34m(\u001b[0m\u001b[0mout\u001b[0m\u001b[0;34m)\u001b[0m \u001b[0;34m<\u001b[0m \u001b[0;36m1\u001b[0m\u001b[0;34m:\u001b[0m\u001b[0;34m\u001b[0m\u001b[0;34m\u001b[0m\u001b[0m\n",
      "\u001b[0;32m/opt/anaconda3/lib/python3.7/site-packages/joblib/parallel.py\u001b[0m in \u001b[0;36m__call__\u001b[0;34m(self, iterable)\u001b[0m\n\u001b[1;32m   1052\u001b[0m \u001b[0;34m\u001b[0m\u001b[0m\n\u001b[1;32m   1053\u001b[0m             \u001b[0;32mwith\u001b[0m \u001b[0mself\u001b[0m\u001b[0;34m.\u001b[0m\u001b[0m_backend\u001b[0m\u001b[0;34m.\u001b[0m\u001b[0mretrieval_context\u001b[0m\u001b[0;34m(\u001b[0m\u001b[0;34m)\u001b[0m\u001b[0;34m:\u001b[0m\u001b[0;34m\u001b[0m\u001b[0;34m\u001b[0m\u001b[0m\n\u001b[0;32m-> 1054\u001b[0;31m                 \u001b[0mself\u001b[0m\u001b[0;34m.\u001b[0m\u001b[0mretrieve\u001b[0m\u001b[0;34m(\u001b[0m\u001b[0;34m)\u001b[0m\u001b[0;34m\u001b[0m\u001b[0;34m\u001b[0m\u001b[0m\n\u001b[0m\u001b[1;32m   1055\u001b[0m             \u001b[0;31m# Make sure that we get a last message telling us we are done\u001b[0m\u001b[0;34m\u001b[0m\u001b[0;34m\u001b[0m\u001b[0;34m\u001b[0m\u001b[0m\n\u001b[1;32m   1056\u001b[0m             \u001b[0melapsed_time\u001b[0m \u001b[0;34m=\u001b[0m \u001b[0mtime\u001b[0m\u001b[0;34m.\u001b[0m\u001b[0mtime\u001b[0m\u001b[0;34m(\u001b[0m\u001b[0;34m)\u001b[0m \u001b[0;34m-\u001b[0m \u001b[0mself\u001b[0m\u001b[0;34m.\u001b[0m\u001b[0m_start_time\u001b[0m\u001b[0;34m\u001b[0m\u001b[0;34m\u001b[0m\u001b[0m\n",
      "\u001b[0;32m/opt/anaconda3/lib/python3.7/site-packages/joblib/parallel.py\u001b[0m in \u001b[0;36mretrieve\u001b[0;34m(self)\u001b[0m\n\u001b[1;32m    931\u001b[0m             \u001b[0;32mtry\u001b[0m\u001b[0;34m:\u001b[0m\u001b[0;34m\u001b[0m\u001b[0;34m\u001b[0m\u001b[0m\n\u001b[1;32m    932\u001b[0m                 \u001b[0;32mif\u001b[0m \u001b[0mgetattr\u001b[0m\u001b[0;34m(\u001b[0m\u001b[0mself\u001b[0m\u001b[0;34m.\u001b[0m\u001b[0m_backend\u001b[0m\u001b[0;34m,\u001b[0m \u001b[0;34m'supports_timeout'\u001b[0m\u001b[0;34m,\u001b[0m \u001b[0;32mFalse\u001b[0m\u001b[0;34m)\u001b[0m\u001b[0;34m:\u001b[0m\u001b[0;34m\u001b[0m\u001b[0;34m\u001b[0m\u001b[0m\n\u001b[0;32m--> 933\u001b[0;31m                     \u001b[0mself\u001b[0m\u001b[0;34m.\u001b[0m\u001b[0m_output\u001b[0m\u001b[0;34m.\u001b[0m\u001b[0mextend\u001b[0m\u001b[0;34m(\u001b[0m\u001b[0mjob\u001b[0m\u001b[0;34m.\u001b[0m\u001b[0mget\u001b[0m\u001b[0;34m(\u001b[0m\u001b[0mtimeout\u001b[0m\u001b[0;34m=\u001b[0m\u001b[0mself\u001b[0m\u001b[0;34m.\u001b[0m\u001b[0mtimeout\u001b[0m\u001b[0;34m)\u001b[0m\u001b[0;34m)\u001b[0m\u001b[0;34m\u001b[0m\u001b[0;34m\u001b[0m\u001b[0m\n\u001b[0m\u001b[1;32m    934\u001b[0m                 \u001b[0;32melse\u001b[0m\u001b[0;34m:\u001b[0m\u001b[0;34m\u001b[0m\u001b[0;34m\u001b[0m\u001b[0m\n\u001b[1;32m    935\u001b[0m                     \u001b[0mself\u001b[0m\u001b[0;34m.\u001b[0m\u001b[0m_output\u001b[0m\u001b[0;34m.\u001b[0m\u001b[0mextend\u001b[0m\u001b[0;34m(\u001b[0m\u001b[0mjob\u001b[0m\u001b[0;34m.\u001b[0m\u001b[0mget\u001b[0m\u001b[0;34m(\u001b[0m\u001b[0;34m)\u001b[0m\u001b[0;34m)\u001b[0m\u001b[0;34m\u001b[0m\u001b[0;34m\u001b[0m\u001b[0m\n",
      "\u001b[0;32m/opt/anaconda3/lib/python3.7/site-packages/joblib/_parallel_backends.py\u001b[0m in \u001b[0;36mwrap_future_result\u001b[0;34m(future, timeout)\u001b[0m\n\u001b[1;32m    540\u001b[0m         AsyncResults.get from multiprocessing.\"\"\"\n\u001b[1;32m    541\u001b[0m         \u001b[0;32mtry\u001b[0m\u001b[0;34m:\u001b[0m\u001b[0;34m\u001b[0m\u001b[0;34m\u001b[0m\u001b[0m\n\u001b[0;32m--> 542\u001b[0;31m             \u001b[0;32mreturn\u001b[0m \u001b[0mfuture\u001b[0m\u001b[0;34m.\u001b[0m\u001b[0mresult\u001b[0m\u001b[0;34m(\u001b[0m\u001b[0mtimeout\u001b[0m\u001b[0;34m=\u001b[0m\u001b[0mtimeout\u001b[0m\u001b[0;34m)\u001b[0m\u001b[0;34m\u001b[0m\u001b[0;34m\u001b[0m\u001b[0m\n\u001b[0m\u001b[1;32m    543\u001b[0m         \u001b[0;32mexcept\u001b[0m \u001b[0mCfTimeoutError\u001b[0m \u001b[0;32mas\u001b[0m \u001b[0me\u001b[0m\u001b[0;34m:\u001b[0m\u001b[0;34m\u001b[0m\u001b[0;34m\u001b[0m\u001b[0m\n\u001b[1;32m    544\u001b[0m             \u001b[0;32mraise\u001b[0m \u001b[0mTimeoutError\u001b[0m \u001b[0;32mfrom\u001b[0m \u001b[0me\u001b[0m\u001b[0;34m\u001b[0m\u001b[0;34m\u001b[0m\u001b[0m\n",
      "\u001b[0;32m/opt/anaconda3/lib/python3.7/concurrent/futures/_base.py\u001b[0m in \u001b[0;36mresult\u001b[0;34m(self, timeout)\u001b[0m\n\u001b[1;32m    428\u001b[0m                 \u001b[0;32mreturn\u001b[0m \u001b[0mself\u001b[0m\u001b[0;34m.\u001b[0m\u001b[0m__get_result\u001b[0m\u001b[0;34m(\u001b[0m\u001b[0;34m)\u001b[0m\u001b[0;34m\u001b[0m\u001b[0;34m\u001b[0m\u001b[0m\n\u001b[1;32m    429\u001b[0m \u001b[0;34m\u001b[0m\u001b[0m\n\u001b[0;32m--> 430\u001b[0;31m             \u001b[0mself\u001b[0m\u001b[0;34m.\u001b[0m\u001b[0m_condition\u001b[0m\u001b[0;34m.\u001b[0m\u001b[0mwait\u001b[0m\u001b[0;34m(\u001b[0m\u001b[0mtimeout\u001b[0m\u001b[0;34m)\u001b[0m\u001b[0;34m\u001b[0m\u001b[0;34m\u001b[0m\u001b[0m\n\u001b[0m\u001b[1;32m    431\u001b[0m \u001b[0;34m\u001b[0m\u001b[0m\n\u001b[1;32m    432\u001b[0m             \u001b[0;32mif\u001b[0m \u001b[0mself\u001b[0m\u001b[0;34m.\u001b[0m\u001b[0m_state\u001b[0m \u001b[0;32min\u001b[0m \u001b[0;34m[\u001b[0m\u001b[0mCANCELLED\u001b[0m\u001b[0;34m,\u001b[0m \u001b[0mCANCELLED_AND_NOTIFIED\u001b[0m\u001b[0;34m]\u001b[0m\u001b[0;34m:\u001b[0m\u001b[0;34m\u001b[0m\u001b[0;34m\u001b[0m\u001b[0m\n",
      "\u001b[0;32m/opt/anaconda3/lib/python3.7/threading.py\u001b[0m in \u001b[0;36mwait\u001b[0;34m(self, timeout)\u001b[0m\n\u001b[1;32m    294\u001b[0m         \u001b[0;32mtry\u001b[0m\u001b[0;34m:\u001b[0m    \u001b[0;31m# restore state no matter what (e.g., KeyboardInterrupt)\u001b[0m\u001b[0;34m\u001b[0m\u001b[0;34m\u001b[0m\u001b[0m\n\u001b[1;32m    295\u001b[0m             \u001b[0;32mif\u001b[0m \u001b[0mtimeout\u001b[0m \u001b[0;32mis\u001b[0m \u001b[0;32mNone\u001b[0m\u001b[0;34m:\u001b[0m\u001b[0;34m\u001b[0m\u001b[0;34m\u001b[0m\u001b[0m\n\u001b[0;32m--> 296\u001b[0;31m                 \u001b[0mwaiter\u001b[0m\u001b[0;34m.\u001b[0m\u001b[0macquire\u001b[0m\u001b[0;34m(\u001b[0m\u001b[0;34m)\u001b[0m\u001b[0;34m\u001b[0m\u001b[0;34m\u001b[0m\u001b[0m\n\u001b[0m\u001b[1;32m    297\u001b[0m                 \u001b[0mgotit\u001b[0m \u001b[0;34m=\u001b[0m \u001b[0;32mTrue\u001b[0m\u001b[0;34m\u001b[0m\u001b[0;34m\u001b[0m\u001b[0m\n\u001b[1;32m    298\u001b[0m             \u001b[0;32melse\u001b[0m\u001b[0;34m:\u001b[0m\u001b[0;34m\u001b[0m\u001b[0;34m\u001b[0m\u001b[0m\n",
      "\u001b[0;31mKeyboardInterrupt\u001b[0m: "
     ]
    }
   ],
   "source": [
    "knn = KNeighborsClassifier()\n",
    "\n",
    "params = {'n_neighbors': [2,8]}\n",
    "\n",
    "knn_model = RandomizedSearchCV(knn, params, cv=4, n_jobs = -1)\n",
    "\n",
    "knn_model.fit(X_train, y_train)\n",
    "knn_model.score(X_train, y_test)"
   ]
  },
  {
   "source": [
    "## Getting the Performance Metrics for all the models\n",
    "\n",
    "The classic ML models that we have tried so far, along with the opimized HP\n",
    "\n",
    "*   Support Vector Machine:\n",
    "\n",
    "        - C: 1\n",
    "\n",
    "*   Logistic Regression:\n",
    "\n",
    "        - C: 25\n",
    "\n",
    "*   Gaussian Naive Bayes\n",
    "\n",
    "*   Multinomial Naive Bayes:\n",
    "\n",
    "        - alpha: 1e-6\n",
    "\n",
    "*   Random Forest:\n",
    "\n",
    "        - min_samples_split: 100\n",
    "\n",
    "        - min_samples_leaf': 2\n",
    "\n",
    "        - 'max_depth': 256\n",
    "\n",
    "*   K-Nearest Neighbors:\n",
    "\n"
   ],
   "cell_type": "markdown",
   "metadata": {}
  },
  {
   "cell_type": "code",
   "execution_count": 47,
   "metadata": {},
   "outputs": [],
   "source": [
    "models = {'SVM': svm_model,\n",
    "          'Logit': lr_model,\n",
    "          'GaussianNB': gnb,\n",
    "          'MultiNB': mnb_model,\n",
    "          'RandomForest': rf_model}"
   ]
  },
  {
   "cell_type": "code",
   "execution_count": null,
   "metadata": {},
   "outputs": [],
   "source": [
    "labels = {'Extremely Negative': 0,\n",
    "          'Extremely Positive': 1,\n",
    "          'Negative': 2,\n",
    "          'Neutral': 3,\n",
    "          'Positive': 4}"
   ]
  },
  {
   "cell_type": "code",
   "execution_count": 52,
   "metadata": {},
   "outputs": [
    {
     "output_type": "execute_result",
     "data": {
      "text/plain": [
       "dict_keys(['Extremely Negative', 'Extremely Positive', 'Negative', 'Neutral', 'Positive'])"
      ]
     },
     "metadata": {},
     "execution_count": 52
    }
   ],
   "source": [
    "labels.keys()"
   ]
  },
  {
   "cell_type": "code",
   "execution_count": 53,
   "metadata": {},
   "outputs": [
    {
     "output_type": "stream",
     "name": "stdout",
     "text": [
      "Classification Report of  SVM \n",
      "\n",
      "                    precision    recall  f1-score   support\n",
      "\n",
      "Extremely Negative       0.54      0.56      0.55       592\n",
      "Extremely Positive       0.61      0.62      0.61       599\n",
      "          Negative       0.50      0.40      0.44      1041\n",
      "           Neutral       0.57      0.72      0.63       616\n",
      "          Positive       0.49      0.50      0.50       947\n",
      "\n",
      "          accuracy                           0.53      3795\n",
      "         macro avg       0.54      0.56      0.55      3795\n",
      "      weighted avg       0.53      0.53      0.53      3795\n",
      "\n",
      "------------\n",
      "\n",
      "Classification Report of  Logit \n",
      "\n",
      "                    precision    recall  f1-score   support\n",
      "\n",
      "Extremely Negative       0.56      0.56      0.56       592\n",
      "Extremely Positive       0.66      0.63      0.64       599\n",
      "          Negative       0.50      0.41      0.45      1041\n",
      "           Neutral       0.59      0.69      0.64       616\n",
      "          Positive       0.50      0.56      0.53       947\n",
      "\n",
      "          accuracy                           0.55      3795\n",
      "         macro avg       0.56      0.57      0.56      3795\n",
      "      weighted avg       0.55      0.55      0.55      3795\n",
      "\n",
      "------------\n",
      "\n",
      "Classification Report of  GaussianNB \n",
      "\n",
      "                    precision    recall  f1-score   support\n",
      "\n",
      "Extremely Negative       0.33      0.65      0.44       592\n",
      "Extremely Positive       0.45      0.51      0.48       599\n",
      "          Negative       0.31      0.06      0.10      1041\n",
      "           Neutral       0.32      0.82      0.46       616\n",
      "          Positive       0.41      0.08      0.13       947\n",
      "\n",
      "          accuracy                           0.35      3795\n",
      "         macro avg       0.36      0.42      0.32      3795\n",
      "      weighted avg       0.36      0.35      0.28      3795\n",
      "\n",
      "------------\n",
      "\n",
      "Classification Report of  MultiNB \n",
      "\n",
      "                    precision    recall  f1-score   support\n",
      "\n",
      "Extremely Negative       0.57      0.28      0.37       592\n",
      "Extremely Positive       0.72      0.27      0.39       599\n",
      "          Negative       0.42      0.49      0.45      1041\n",
      "           Neutral       0.53      0.44      0.48       616\n",
      "          Positive       0.38      0.63      0.47       947\n",
      "\n",
      "          accuracy                           0.45      3795\n",
      "         macro avg       0.52      0.42      0.43      3795\n",
      "      weighted avg       0.50      0.45      0.44      3795\n",
      "\n",
      "------------\n",
      "\n",
      "Classification Report of  RandomForest \n",
      "\n",
      "                    precision    recall  f1-score   support\n",
      "\n",
      "Extremely Negative       0.50      0.40      0.44       592\n",
      "Extremely Positive       0.59      0.42      0.49       599\n",
      "          Negative       0.45      0.41      0.43      1041\n",
      "           Neutral       0.51      0.63      0.56       616\n",
      "          Positive       0.40      0.50      0.44       947\n",
      "\n",
      "          accuracy                           0.47      3795\n",
      "         macro avg       0.49      0.47      0.47      3795\n",
      "      weighted avg       0.48      0.47      0.47      3795\n",
      "\n",
      "------------\n",
      "\n"
     ]
    }
   ],
   "source": [
    "# looping through the optimized models and getting all the accuracy metrics\n",
    "for model_name, model in models.items():\n",
    "    print('Classification Report of ', model_name, '\\n')\n",
    "    y_pred = model.predict(X_test)\n",
    "    print(classification_report(y_test, y_pred, target_names= labels.keys()))\n",
    "    print('------------\\n')\n"
   ]
  },
  {
   "cell_type": "code",
   "execution_count": null,
   "metadata": {},
   "outputs": [],
   "source": []
  }
 ]
}