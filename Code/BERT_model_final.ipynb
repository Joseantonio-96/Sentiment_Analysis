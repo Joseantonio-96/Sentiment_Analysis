{
 "cells": [
  {
   "cell_type": "markdown",
   "metadata": {
    "id": "OUZwjJPxjpoz"
   },
   "source": [
    "# Deep Learning methods: BERT model \n",
    "\n",
    "## Jose Antonio Jijon Vorbeck\n",
    "\n",
    "In this notebook, we will apply a BERT model to the tweets data set to perform a sentiment analysis. \n",
    "\n",
    "We will compare the results obtained from this model to those obtained using classical ML models.\n",
    "\n",
    "BERT is a deep learning model that has een proven to give state-of-the art responses in natural Language Processing. BERT (Bidirectional Encoder Representations for Transformers) is a pre-trained model that has been developped by a team of Scientists at Google. It has been already trained with more than 250 million articles, including the english wikipedia and more sources.\n",
    "\n",
    "BERT relies on a Transfomer, the attention mechanism part of the algorithm. A normal Transfore system consitns of an encoder to read the input, and a decoder to output any kind of information we which to obtain from the input. But since the goal of BERT is to generate a bidirectional representation language model, we will only need the encoder part of the system. \n",
    "\n",
    "The input to the encoder from BERT needs a series of tokenized vectors, which have to be in a specific format suitable fo the algorithm. Token embedding is a crucial part of the pre-processing done for this model. The [CLS] token is embedded at the beginning of each new sentence, and the [SEP] token is used at the end of the sentences, between two consecutive sentences.\n",
    "\n",
    "We will make use of the BERT model by importing it from Tensorflow, we will be using KERAS, for a more suitable usage of the TF mechanism."
   ]
  },
  {
   "cell_type": "markdown",
   "metadata": {
    "id": "jFrg3HKnjpo4"
   },
   "source": [
    "[BERT - Kaggle](https://www.kaggle.com/nayansakhiya/text-classification-using-bert)"
   ]
  },
  {
   "cell_type": "code",
   "execution_count": 1,
   "metadata": {
    "colab": {
     "base_uri": "https://localhost:8080/"
    },
    "executionInfo": {
     "elapsed": 21276,
     "status": "ok",
     "timestamp": 1622483881687,
     "user": {
      "displayName": "JOSE ANTONIO JIJON VORBECK",
      "photoUrl": "",
      "userId": "12531941878311717446"
     },
     "user_tz": -120
    },
    "id": "Bn_pAy5Ujpo5",
    "outputId": "2bfe9c9b-bad7-47db-88e3-e9559ed9fcdb"
   },
   "outputs": [
    {
     "name": "stdout",
     "output_type": "stream",
     "text": [
      "Mounted at /content/drive\n"
     ]
    }
   ],
   "source": [
    "# Load the Drive helper and mount\n",
    "from google.colab import drive\n",
    "drive.mount('/content/drive')"
   ]
  },
  {
   "cell_type": "code",
   "execution_count": 42,
   "metadata": {
    "executionInfo": {
     "elapsed": 284,
     "status": "ok",
     "timestamp": 1622503167526,
     "user": {
      "displayName": "JOSE ANTONIO JIJON VORBECK",
      "photoUrl": "",
      "userId": "12531941878311717446"
     },
     "user_tz": -120
    },
    "id": "YAiLwfCZjpo6"
   },
   "outputs": [],
   "source": [
    "import numpy as np\n",
    "import seaborn as sns\n",
    "import pandas as pd\n",
    "import matplotlib.pyplot as plt\n",
    "import math\n",
    "\n",
    "from sklearn.model_selection import train_test_split\n",
    "from sklearn.metrics import cohen_kappa_score\n",
    "from sklearn.metrics import roc_auc_score\n",
    "from sklearn.metrics import confusion_matrix, classification_report\n",
    "from sklearn import metrics"
   ]
  },
  {
   "cell_type": "code",
   "execution_count": 3,
   "metadata": {
    "colab": {
     "base_uri": "https://localhost:8080/"
    },
    "executionInfo": {
     "elapsed": 1611,
     "status": "ok",
     "timestamp": 1622483883700,
     "user": {
      "displayName": "JOSE ANTONIO JIJON VORBECK",
      "photoUrl": "",
      "userId": "12531941878311717446"
     },
     "user_tz": -120
    },
    "id": "JhpYi8Ekjpo7",
    "outputId": "61d5dd95-121f-49b9-dfb4-27956140793b"
   },
   "outputs": [
    {
     "name": "stdout",
     "output_type": "stream",
     "text": [
      "Training obs: 41156, and testing obs: 3798\n"
     ]
    }
   ],
   "source": [
    "# reading the already cleaned data, paths are those obtained from google collab\n",
    "train_data = pd.read_csv('/content/drive/MyDrive/TFM/Data/TweetC_train.csv')\n",
    "test_data = pd.read_csv('/content/drive/MyDrive/TFM/Data/TweetC_test.csv')\n",
    "print(f'Training obs: {train_data.shape[0]}, and testing obs: {test_data.shape[0]}')"
   ]
  },
  {
   "cell_type": "code",
   "execution_count": 4,
   "metadata": {
    "executionInfo": {
     "elapsed": 37,
     "status": "ok",
     "timestamp": 1622483883701,
     "user": {
      "displayName": "JOSE ANTONIO JIJON VORBECK",
      "photoUrl": "",
      "userId": "12531941878311717446"
     },
     "user_tz": -120
    },
    "id": "Xa9crL-3jpo8"
   },
   "outputs": [],
   "source": [
    "# dropping indexes with nan\n",
    "\n",
    "# training set\n",
    "index_with_nan = train_data.index[train_data.isnull().any(axis=1)]\n",
    "train_data.drop(index_with_nan,0, inplace=True)\n",
    "\n",
    "# testing set\n",
    "index_with_nan = test_data.index[test_data.isnull().any(axis=1)]\n",
    "test_data.drop(index_with_nan,0, inplace=True)"
   ]
  },
  {
   "cell_type": "code",
   "execution_count": 5,
   "metadata": {
    "colab": {
     "base_uri": "https://localhost:8080/",
     "height": 202
    },
    "executionInfo": {
     "elapsed": 37,
     "status": "ok",
     "timestamp": 1622483883702,
     "user": {
      "displayName": "JOSE ANTONIO JIJON VORBECK",
      "photoUrl": "",
      "userId": "12531941878311717446"
     },
     "user_tz": -120
    },
    "id": "ApMouK4Hjpo8",
    "outputId": "21d5c234-676b-4e5a-a98e-160fa0073bbf"
   },
   "outputs": [
    {
     "data": {
      "text/html": [
       "<div>\n",
       "<style scoped>\n",
       "    .dataframe tbody tr th:only-of-type {\n",
       "        vertical-align: middle;\n",
       "    }\n",
       "\n",
       "    .dataframe tbody tr th {\n",
       "        vertical-align: top;\n",
       "    }\n",
       "\n",
       "    .dataframe thead th {\n",
       "        text-align: right;\n",
       "    }\n",
       "</style>\n",
       "<table border=\"1\" class=\"dataframe\">\n",
       "  <thead>\n",
       "    <tr style=\"text-align: right;\">\n",
       "      <th></th>\n",
       "      <th>Corpus</th>\n",
       "      <th>label</th>\n",
       "    </tr>\n",
       "  </thead>\n",
       "  <tbody>\n",
       "    <tr>\n",
       "      <th>0</th>\n",
       "      <td>advice talk neighbour family exchange phone nu...</td>\n",
       "      <td>4</td>\n",
       "    </tr>\n",
       "    <tr>\n",
       "      <th>1</th>\n",
       "      <td>coronavirus australia woolworth elderly disabl...</td>\n",
       "      <td>4</td>\n",
       "    </tr>\n",
       "    <tr>\n",
       "      <th>2</th>\n",
       "      <td>food stock panic food need stay calm stay safe</td>\n",
       "      <td>4</td>\n",
       "    </tr>\n",
       "    <tr>\n",
       "      <th>3</th>\n",
       "      <td>ready supermarket outbreak paranoid food stock...</td>\n",
       "      <td>0</td>\n",
       "    </tr>\n",
       "    <tr>\n",
       "      <th>4</th>\n",
       "      <td>news regionâs confirmed covid case came sulli...</td>\n",
       "      <td>4</td>\n",
       "    </tr>\n",
       "  </tbody>\n",
       "</table>\n",
       "</div>"
      ],
      "text/plain": [
       "                                              Corpus  label\n",
       "0  advice talk neighbour family exchange phone nu...      4\n",
       "1  coronavirus australia woolworth elderly disabl...      4\n",
       "2     food stock panic food need stay calm stay safe      4\n",
       "3  ready supermarket outbreak paranoid food stock...      0\n",
       "4  news regionâs confirmed covid case came sulli...      4"
      ]
     },
     "execution_count": 5,
     "metadata": {
      "tags": []
     },
     "output_type": "execute_result"
    }
   ],
   "source": [
    "train_data.head()"
   ]
  },
  {
   "cell_type": "code",
   "execution_count": 6,
   "metadata": {
    "executionInfo": {
     "elapsed": 35,
     "status": "ok",
     "timestamp": 1622483883703,
     "user": {
      "displayName": "JOSE ANTONIO JIJON VORBECK",
      "photoUrl": "",
      "userId": "12531941878311717446"
     },
     "user_tz": -120
    },
    "id": "iRnndC3cjpo9"
   },
   "outputs": [],
   "source": [
    "y_train = train_data.iloc[:,1]\n",
    "y_test = test_data.iloc[:,1]\n",
    "\n",
    "y_train = pd.get_dummies(y_train)\n",
    "y_test = pd.get_dummies(y_test)\n",
    "\n",
    "X_train = train_data.iloc[:,0]\n",
    "X_test = test_data.iloc[:,0]"
   ]
  },
  {
   "cell_type": "markdown",
   "metadata": {
    "id": "-hj4qIMcjpo9"
   },
   "source": [
    "We will use the training dataset for both training and validation sets."
   ]
  },
  {
   "cell_type": "code",
   "execution_count": 7,
   "metadata": {
    "executionInfo": {
     "elapsed": 35,
     "status": "ok",
     "timestamp": 1622483883704,
     "user": {
      "displayName": "JOSE ANTONIO JIJON VORBECK",
      "photoUrl": "",
      "userId": "12531941878311717446"
     },
     "user_tz": -120
    },
    "id": "eCf-3rAUjpo-"
   },
   "outputs": [],
   "source": [
    "# 20% of the training data will be devoted to the validation dataset\n",
    "train_text, validation_text, train_labels, validation_labels = train_test_split(X_train.to_numpy(), y_train.to_numpy(),test_size=0.2,random_state=0)\n",
    "\n",
    "# making the test data into numpy formats\n",
    "test_text = X_test.to_numpy()\n",
    "test_labels = y_test.to_numpy()"
   ]
  },
  {
   "cell_type": "code",
   "execution_count": 8,
   "metadata": {
    "colab": {
     "base_uri": "https://localhost:8080/"
    },
    "executionInfo": {
     "elapsed": 34,
     "status": "ok",
     "timestamp": 1622483883704,
     "user": {
      "displayName": "JOSE ANTONIO JIJON VORBECK",
      "photoUrl": "",
      "userId": "12531941878311717446"
     },
     "user_tz": -120
    },
    "id": "Y-j-uJQrjpo-",
    "outputId": "8760db9c-d54f-4b2a-9db9-5c143cd589be"
   },
   "outputs": [
    {
     "data": {
      "text/plain": [
       "(array([], dtype=int64),)"
      ]
     },
     "execution_count": 8,
     "metadata": {
      "tags": []
     },
     "output_type": "execute_result"
    }
   ],
   "source": [
    "# looking for empty strings or only numbers in a string\n",
    "np.where(train_text == ' ')\n",
    "\n",
    "#x = numpy.delete(x,(2), axis=1)"
   ]
  },
  {
   "cell_type": "code",
   "execution_count": 9,
   "metadata": {
    "colab": {
     "base_uri": "https://localhost:8080/"
    },
    "executionInfo": {
     "elapsed": 28,
     "status": "ok",
     "timestamp": 1622483883705,
     "user": {
      "displayName": "JOSE ANTONIO JIJON VORBECK",
      "photoUrl": "",
      "userId": "12531941878311717446"
     },
     "user_tz": -120
    },
    "id": "vOVKhPsQjpo-",
    "outputId": "75301d4b-f2e4-4eb4-d463-1b35a07bed98"
   },
   "outputs": [
    {
     "name": "stdout",
     "output_type": "stream",
     "text": [
      "The training data contains 32869 tweets, the validation contains 8218 tweets\n"
     ]
    }
   ],
   "source": [
    "print(f'The training data contains {len(train_text)} tweets, the validation contains {len(validation_text)} tweets')"
   ]
  },
  {
   "cell_type": "code",
   "execution_count": 10,
   "metadata": {
    "colab": {
     "base_uri": "https://localhost:8080/"
    },
    "executionInfo": {
     "elapsed": 24,
     "status": "ok",
     "timestamp": 1622483883706,
     "user": {
      "displayName": "JOSE ANTONIO JIJON VORBECK",
      "photoUrl": "",
      "userId": "12531941878311717446"
     },
     "user_tz": -120
    },
    "id": "_3T7wM9yjpo_",
    "outputId": "946dd36c-9ec1-4708-ba95-e0a1b851bb01"
   },
   "outputs": [
    {
     "data": {
      "text/plain": [
       "array([[1, 0, 0, 0, 0],\n",
       "       [0, 0, 0, 1, 0],\n",
       "       [0, 1, 0, 0, 0],\n",
       "       ...,\n",
       "       [0, 0, 1, 0, 0],\n",
       "       [0, 0, 0, 0, 1],\n",
       "       [0, 1, 0, 0, 0]], dtype=uint8)"
      ]
     },
     "execution_count": 10,
     "metadata": {
      "tags": []
     },
     "output_type": "execute_result"
    }
   ],
   "source": [
    "train_labels"
   ]
  },
  {
   "cell_type": "markdown",
   "metadata": {
    "id": "w2vIX9jhjpo_"
   },
   "source": [
    "## Since the data we are using was already cleaned, and pre-processed, we will use now it directly to train a Neural Netwrok using BERT (Bidirectional Encoder R Trasformer) "
   ]
  },
  {
   "cell_type": "markdown",
   "metadata": {
    "id": "8Fd08z84jpo_"
   },
   "source": [
    "Now we will aplly more specific tasks more related to the BERT algorithm, like the BERT tokenization or the BERT model itself. We will be importing these tools from the internet."
   ]
  },
  {
   "cell_type": "code",
   "execution_count": 11,
   "metadata": {
    "executionInfo": {
     "elapsed": 20,
     "status": "ok",
     "timestamp": 1622483883706,
     "user": {
      "displayName": "JOSE ANTONIO JIJON VORBECK",
      "photoUrl": "",
      "userId": "12531941878311717446"
     },
     "user_tz": -120
    },
    "id": "R9eu5RPtjpo_"
   },
   "outputs": [],
   "source": [
    "# import BERT tokenization\n",
    "\n",
    "!wget --quiet https://raw.githubusercontent.com/tensorflow/models/master/official/nlp/bert/tokenization.py"
   ]
  },
  {
   "cell_type": "markdown",
   "metadata": {
    "id": "cD3wPYA2jppA"
   },
   "source": [
    "Now we do more imports for SKlearn and TF, as well as the tokenization library"
   ]
  },
  {
   "cell_type": "code",
   "execution_count": 12,
   "metadata": {
    "colab": {
     "base_uri": "https://localhost:8080/"
    },
    "executionInfo": {
     "elapsed": 2981,
     "status": "ok",
     "timestamp": 1622483886670,
     "user": {
      "displayName": "JOSE ANTONIO JIJON VORBECK",
      "photoUrl": "",
      "userId": "12531941878311717446"
     },
     "user_tz": -120
    },
    "id": "OIvLktj2kEdR",
    "outputId": "d7f3774c-e1bd-4474-c540-537bd99e1c1a"
   },
   "outputs": [
    {
     "name": "stdout",
     "output_type": "stream",
     "text": [
      "Collecting sentencepiece\n",
      "\u001b[?25l  Downloading https://files.pythonhosted.org/packages/f5/99/e0808cb947ba10f575839c43e8fafc9cc44e4a7a2c8f79c60db48220a577/sentencepiece-0.1.95-cp37-cp37m-manylinux2014_x86_64.whl (1.2MB)\n",
      "\u001b[K     |████████████████████████████████| 1.2MB 7.9MB/s \n",
      "\u001b[?25hInstalling collected packages: sentencepiece\n",
      "Successfully installed sentencepiece-0.1.95\n"
     ]
    }
   ],
   "source": [
    "!pip install sentencepiece"
   ]
  },
  {
   "cell_type": "code",
   "execution_count": 13,
   "metadata": {
    "executionInfo": {
     "elapsed": 1810,
     "status": "ok",
     "timestamp": 1622483888475,
     "user": {
      "displayName": "JOSE ANTONIO JIJON VORBECK",
      "photoUrl": "",
      "userId": "12531941878311717446"
     },
     "user_tz": -120
    },
    "id": "X6pcD9Y6jppA"
   },
   "outputs": [],
   "source": [
    "import tokenization\n",
    "import tensorflow as tf\n",
    "import tensorflow_hub as hub\n",
    "#from keras.utils import to_categorical\n",
    "from sklearn import preprocessing\n",
    "from sklearn.model_selection import train_test_split\n",
    "\n",
    "# keras\n",
    "import keras\n",
    "from tensorflow.keras.callbacks import EarlyStopping\n",
    "from tensorflow.keras.callbacks import ModelCheckpoint\n",
    "from tensorflow.keras.models import Model\n",
    "from tensorflow.keras.layers import Input, Dense, Dropout\n",
    "from tensorflow.keras.optimizers import Adam"
   ]
  },
  {
   "cell_type": "markdown",
   "metadata": {
    "id": "jAiN6oEOjppA"
   },
   "source": [
    "Now we will import the BERT model from the hub.KerasLayer"
   ]
  },
  {
   "cell_type": "code",
   "execution_count": 14,
   "metadata": {
    "executionInfo": {
     "elapsed": 15388,
     "status": "ok",
     "timestamp": 1622483903861,
     "user": {
      "displayName": "JOSE ANTONIO JIJON VORBECK",
      "photoUrl": "",
      "userId": "12531941878311717446"
     },
     "user_tz": -120
    },
    "id": "sMqshL0zjppB"
   },
   "outputs": [],
   "source": [
    "# importing BERT Layer\n",
    "\n",
    "m_url = 'https://tfhub.dev/tensorflow/bert_en_uncased_L-12_H-768_A-12/2'\n",
    "bert_layer = hub.KerasLayer(m_url, trainable=True)"
   ]
  },
  {
   "cell_type": "markdown",
   "metadata": {
    "id": "wRb01_1MjppB"
   },
   "source": [
    "### Load the tokenizer functions"
   ]
  },
  {
   "cell_type": "code",
   "execution_count": 15,
   "metadata": {
    "executionInfo": {
     "elapsed": 35,
     "status": "ok",
     "timestamp": 1622483903869,
     "user": {
      "displayName": "JOSE ANTONIO JIJON VORBECK",
      "photoUrl": "",
      "userId": "12531941878311717446"
     },
     "user_tz": -120
    },
    "id": "0pLJRZwNjppB"
   },
   "outputs": [],
   "source": [
    "vocab_file = bert_layer.resolved_object.vocab_file.asset_path.numpy()\n",
    "do_lower_case = bert_layer.resolved_object.do_lower_case.numpy()\n",
    "tokenizer = tokenization.FullTokenizer(vocab_file, do_lower_case)"
   ]
  },
  {
   "cell_type": "markdown",
   "metadata": {
    "id": "nA6DmGI-jppB"
   },
   "source": [
    "### Create the tokenization fuction"
   ]
  },
  {
   "cell_type": "code",
   "execution_count": 16,
   "metadata": {
    "executionInfo": {
     "elapsed": 33,
     "status": "ok",
     "timestamp": 1622483903870,
     "user": {
      "displayName": "JOSE ANTONIO JIJON VORBECK",
      "photoUrl": "",
      "userId": "12531941878311717446"
     },
     "user_tz": -120
    },
    "id": "79YHyji8jppB"
   },
   "outputs": [],
   "source": [
    "def bert_encode(texts, tokenizer, max_len=160):\n",
    "    all_tokens = []\n",
    "    all_masks = []\n",
    "    all_segments = []\n",
    "    \n",
    "    for text in texts:\n",
    "        text = tokenizer.tokenize(text)\n",
    "        \n",
    "        text = text[:max_len-2]\n",
    "        input_sequence = [\"[CLS]\"] + text + [\"[SEP]\"]\n",
    "        pad_len = max_len-len(input_sequence)\n",
    "        \n",
    "        tokens = tokenizer.convert_tokens_to_ids(input_sequence) + [0] * pad_len\n",
    "        pad_masks = [1] * len(input_sequence) + [0] * pad_len\n",
    "        segment_ids = [0] * max_len\n",
    "        \n",
    "        all_tokens.append(tokens)\n",
    "        all_masks.append(pad_masks)\n",
    "        all_segments.append(segment_ids)\n",
    "        \n",
    "    return np.array(all_tokens), np.array(all_masks), np.array(all_segments)"
   ]
  },
  {
   "cell_type": "markdown",
   "metadata": {
    "id": "T6rSuDxqjppC"
   },
   "source": [
    "### And the Build model function"
   ]
  },
  {
   "cell_type": "code",
   "execution_count": 17,
   "metadata": {
    "executionInfo": {
     "elapsed": 33,
     "status": "ok",
     "timestamp": 1622483903871,
     "user": {
      "displayName": "JOSE ANTONIO JIJON VORBECK",
      "photoUrl": "",
      "userId": "12531941878311717446"
     },
     "user_tz": -120
    },
    "id": "bNj3snLzjppC"
   },
   "outputs": [],
   "source": [
    "def build_model(bert_layer, max_len=160):\n",
    "    input_word_ids = Input(shape=(max_len,), dtype=tf.int32, name=\"input_word_ids\")\n",
    "    input_mask = Input(shape=(max_len,), dtype=tf.int32, name=\"input_mask\")\n",
    "    segment_ids = Input(shape=(max_len,), dtype=tf.int32, name=\"segment_ids\")\n",
    "\n",
    "    _, sequence_output = bert_layer([input_word_ids, input_mask, segment_ids])\n",
    "    clf_output = sequence_output[:, 0, :]\n",
    "\n",
    "    #lay = Dense(128, activation='relu')(clf_output)\n",
    "    #lay = Dropout(0.2)(lay)\n",
    "    #lay = Dense(64, activation='relu')(lay)\n",
    "    #lay = Dropout(0.2)(lay)\n",
    "    out = Dense(5, activation='softmax')(clf_output)\n",
    "    \n",
    "    model = Model(inputs=[input_word_ids, input_mask, segment_ids], outputs=out)\n",
    "    model.compile(Adam(lr=2e-6), loss='binary_crossentropy', metrics=['accuracy',keras.metrics.Precision(), keras.metrics.Recall(), keras.metrics.TruePositives()])\n",
    "    \n",
    "    return model"
   ]
  },
  {
   "cell_type": "markdown",
   "metadata": {
    "id": "ZYGvkC94jppC"
   },
   "source": [
    "### Create function for plotting train/validation losses and accuracies"
   ]
  },
  {
   "cell_type": "code",
   "execution_count": 18,
   "metadata": {
    "executionInfo": {
     "elapsed": 33,
     "status": "ok",
     "timestamp": 1622483903872,
     "user": {
      "displayName": "JOSE ANTONIO JIJON VORBECK",
      "photoUrl": "",
      "userId": "12531941878311717446"
     },
     "user_tz": -120
    },
    "id": "MZCGhHZUjppC"
   },
   "outputs": [],
   "source": [
    "def plot_loss_acc(acc, val_acc, loss, val_loss):\n",
    "\n",
    "    fig, axs = plt.subplots(2)\n",
    "    axs[0].plot(loss)\n",
    "    axs[0].plot(val_loss)\n",
    "    axs[0].set_title('Training and Validation Losses')\n",
    "    axs[0].set_xlabel('Epoch')\n",
    "    axs[0].set_ylabel('Loss')\n",
    "    axs[0].legend(['Train', 'Val'])\n",
    "    axs[1].plot(acc)\n",
    "    axs[1].plot(val_acc)\n",
    "    axs[1].set_title('Training and Validation Losses')\n",
    "    axs[1].set_xlabel('Epoch')\n",
    "    axs[1].set_ylabel('Accuracy')\n",
    "    axs[1].legend(['Train', 'Val'])\n",
    "    fig.tight_layout()\n",
    "    plt.show()"
   ]
  },
  {
   "cell_type": "markdown",
   "metadata": {
    "id": "_ZZDJ2QhjppD"
   },
   "source": [
    "### Now we perform the text encoding"
   ]
  },
  {
   "cell_type": "code",
   "execution_count": 19,
   "metadata": {
    "executionInfo": {
     "elapsed": 15322,
     "status": "ok",
     "timestamp": 1622483919162,
     "user": {
      "displayName": "JOSE ANTONIO JIJON VORBECK",
      "photoUrl": "",
      "userId": "12531941878311717446"
     },
     "user_tz": -120
    },
    "id": "gSWszlzhjppD"
   },
   "outputs": [],
   "source": [
    "train_input = bert_encode(train_text, tokenizer, max_len = 160)\n",
    "test_input = bert_encode(test_text, tokenizer, max_len = 160)\n",
    "val_input = bert_encode(validation_text, tokenizer, max_len = 160)\n",
    "\n",
    "train_labels = train_labels\n",
    "test_labels = test_labels\n",
    "val_labels = validation_labels"
   ]
  },
  {
   "cell_type": "markdown",
   "metadata": {
    "id": "HJkWzTMVjppD"
   },
   "source": [
    "### Build the model"
   ]
  },
  {
   "cell_type": "code",
   "execution_count": 20,
   "metadata": {
    "colab": {
     "base_uri": "https://localhost:8080/"
    },
    "executionInfo": {
     "elapsed": 13,
     "status": "ok",
     "timestamp": 1622483919164,
     "user": {
      "displayName": "JOSE ANTONIO JIJON VORBECK",
      "photoUrl": "",
      "userId": "12531941878311717446"
     },
     "user_tz": -120
    },
    "id": "hrQ9eXBVjppD",
    "outputId": "ac982220-417a-43ba-8133-bd42bc00359c"
   },
   "outputs": [
    {
     "name": "stdout",
     "output_type": "stream",
     "text": [
      "Model: \"model\"\n",
      "__________________________________________________________________________________________________\n",
      "Layer (type)                    Output Shape         Param #     Connected to                     \n",
      "==================================================================================================\n",
      "input_word_ids (InputLayer)     [(None, 160)]        0                                            \n",
      "__________________________________________________________________________________________________\n",
      "input_mask (InputLayer)         [(None, 160)]        0                                            \n",
      "__________________________________________________________________________________________________\n",
      "segment_ids (InputLayer)        [(None, 160)]        0                                            \n",
      "__________________________________________________________________________________________________\n",
      "keras_layer (KerasLayer)        [(None, 768), (None, 109482241   input_word_ids[0][0]             \n",
      "                                                                 input_mask[0][0]                 \n",
      "                                                                 segment_ids[0][0]                \n",
      "__________________________________________________________________________________________________\n",
      "tf.__operators__.getitem (Slici (None, 768)          0           keras_layer[0][1]                \n",
      "__________________________________________________________________________________________________\n",
      "dense (Dense)                   (None, 5)            3845        tf.__operators__.getitem[0][0]   \n",
      "==================================================================================================\n",
      "Total params: 109,486,086\n",
      "Trainable params: 109,486,085\n",
      "Non-trainable params: 1\n",
      "__________________________________________________________________________________________________\n"
     ]
    },
    {
     "name": "stderr",
     "output_type": "stream",
     "text": [
      "/usr/local/lib/python3.7/dist-packages/tensorflow/python/keras/optimizer_v2/optimizer_v2.py:375: UserWarning: The `lr` argument is deprecated, use `learning_rate` instead.\n",
      "  \"The `lr` argument is deprecated, use `learning_rate` instead.\")\n"
     ]
    }
   ],
   "source": [
    "model = build_model(bert_layer, max_len = 160)\n",
    "model.summary()"
   ]
  },
  {
   "cell_type": "markdown",
   "metadata": {
    "id": "DcxLO3L-jppD"
   },
   "source": [
    "### Applying Early Stopping and saving the best model"
   ]
  },
  {
   "cell_type": "code",
   "execution_count": 25,
   "metadata": {
    "executionInfo": {
     "elapsed": 311,
     "status": "ok",
     "timestamp": 1622485124429,
     "user": {
      "displayName": "JOSE ANTONIO JIJON VORBECK",
      "photoUrl": "",
      "userId": "12531941878311717446"
     },
     "user_tz": -120
    },
    "id": "Kll2PIe_jppE"
   },
   "outputs": [],
   "source": [
    "# Save the model after every epoch.\n",
    "saveBestModel = ModelCheckpoint('BERT_best_model.hdf5', monitor='val_acc', verbose=0, save_best_only=True, save_weights_only=False, mode='auto', save_freq=1)\n",
    "# Stop training when a monitored quantity has stopped improving.\n",
    "earlyStopping = EarlyStopping(monitor='val_loss', min_delta=0, patience=3, verbose=0, mode='auto')"
   ]
  },
  {
   "cell_type": "markdown",
   "metadata": {
    "id": "awkChzSNjppE"
   },
   "source": [
    "### Finally we can fit the model"
   ]
  },
  {
   "cell_type": "code",
   "execution_count": 26,
   "metadata": {
    "colab": {
     "base_uri": "https://localhost:8080/"
    },
    "executionInfo": {
     "elapsed": 14565337,
     "status": "ok",
     "timestamp": 1622499690309,
     "user": {
      "displayName": "JOSE ANTONIO JIJON VORBECK",
      "photoUrl": "",
      "userId": "12531941878311717446"
     },
     "user_tz": -120
    },
    "id": "0ua5iQ8AjppE",
    "outputId": "2418795e-fe2c-4e1f-c8aa-3d0da4a69d1c"
   },
   "outputs": [
    {
     "name": "stdout",
     "output_type": "stream",
     "text": [
      "Epoch 1/50\n",
      "658/658 [==============================] - 1121s 2s/step - loss: 0.3570 - accuracy: 0.5658 - precision: 0.5744 - recall: 0.2576 - true_positives: 15411.0566 - val_loss: 0.3321 - val_accuracy: 0.6046 - val_precision: 0.5948 - val_recall: 0.3282 - val_true_positives: 25959.5215\n",
      "Epoch 2/50\n",
      "658/658 [==============================] - 1120s 2s/step - loss: 0.3170 - accuracy: 0.6314 - precision: 0.6091 - recall: 0.3787 - true_positives: 37913.0469 - val_loss: 0.3044 - val_accuracy: 0.6495 - val_precision: 0.6215 - val_recall: 0.4187 - val_true_positives: 50314.1562\n",
      "Epoch 3/50\n",
      "658/658 [==============================] - 1120s 2s/step - loss: 0.2897 - accuracy: 0.6760 - precision: 0.6329 - recall: 0.4501 - true_positives: 63453.9922 - val_loss: 0.2847 - val_accuracy: 0.6851 - val_precision: 0.6437 - val_recall: 0.4774 - val_true_positives: 76981.6953\n",
      "Epoch 4/50\n",
      "658/658 [==============================] - 1120s 2s/step - loss: 0.2700 - accuracy: 0.7071 - precision: 0.6533 - recall: 0.4998 - true_positives: 90952.2500 - val_loss: 0.2773 - val_accuracy: 0.7021 - val_precision: 0.6619 - val_recall: 0.5196 - val_true_positives: 105120.1719\n",
      "Epoch 5/50\n",
      "658/658 [==============================] - 1120s 2s/step - loss: 0.2564 - accuracy: 0.7267 - precision: 0.6694 - recall: 0.5361 - true_positives: 119550.6719 - val_loss: 0.2670 - val_accuracy: 0.7245 - val_precision: 0.6765 - val_recall: 0.5515 - val_true_positives: 134241.7031\n",
      "Epoch 6/50\n",
      "658/658 [==============================] - 1121s 2s/step - loss: 0.2432 - accuracy: 0.7458 - precision: 0.6833 - recall: 0.5651 - true_positives: 149224.4062 - val_loss: 0.2636 - val_accuracy: 0.7237 - val_precision: 0.6891 - val_recall: 0.5770 - val_true_positives: 164142.6250\n",
      "Epoch 7/50\n",
      "658/658 [==============================] - 1120s 2s/step - loss: 0.2321 - accuracy: 0.7607 - precision: 0.6948 - recall: 0.5878 - true_positives: 179357.0781 - val_loss: 0.2608 - val_accuracy: 0.7341 - val_precision: 0.7000 - val_recall: 0.5978 - val_true_positives: 194629.9688\n",
      "Epoch 8/50\n",
      "658/658 [==============================] - 1120s 2s/step - loss: 0.2239 - accuracy: 0.7729 - precision: 0.7050 - recall: 0.6070 - true_positives: 210148.7969 - val_loss: 0.2577 - val_accuracy: 0.7380 - val_precision: 0.7094 - val_recall: 0.6153 - val_true_positives: 225627.3438\n",
      "Epoch 9/50\n",
      "658/658 [==============================] - 1121s 2s/step - loss: 0.2147 - accuracy: 0.7848 - precision: 0.7138 - recall: 0.6233 - true_positives: 241364.1875 - val_loss: 0.2603 - val_accuracy: 0.7379 - val_precision: 0.7177 - val_recall: 0.6305 - val_true_positives: 257082.4531\n",
      "Epoch 10/50\n",
      "658/658 [==============================] - 1121s 2s/step - loss: 0.2052 - accuracy: 0.7953 - precision: 0.7217 - recall: 0.6374 - true_positives: 273033.3125 - val_loss: 0.2559 - val_accuracy: 0.7459 - val_precision: 0.7253 - val_recall: 0.6438 - val_true_positives: 288982.8125\n",
      "Epoch 11/50\n",
      "658/658 [==============================] - 1121s 2s/step - loss: 0.1991 - accuracy: 0.8035 - precision: 0.7289 - recall: 0.6499 - true_positives: 305060.5312 - val_loss: 0.2672 - val_accuracy: 0.7373 - val_precision: 0.7321 - val_recall: 0.6554 - val_true_positives: 321115.3438\n",
      "Epoch 12/50\n",
      "658/658 [==============================] - 1121s 2s/step - loss: 0.1918 - accuracy: 0.8132 - precision: 0.7354 - recall: 0.6609 - true_positives: 337375.1875 - val_loss: 0.2605 - val_accuracy: 0.7490 - val_precision: 0.7384 - val_recall: 0.6660 - val_true_positives: 353639.8438\n",
      "Epoch 13/50\n",
      "658/658 [==============================] - 1121s 2s/step - loss: 0.1847 - accuracy: 0.8216 - precision: 0.7415 - recall: 0.6709 - true_positives: 370069.3125 - val_loss: 0.2569 - val_accuracy: 0.7532 - val_precision: 0.7444 - val_recall: 0.6756 - val_true_positives: 386520.5000\n"
     ]
    }
   ],
   "source": [
    "# running this in google collab because in the local server it takes much longer to complete.\n",
    "train_history = model.fit(\n",
    "    train_input, train_labels,\n",
    "    validation_data=(val_input, val_labels),\n",
    "    epochs=10,\n",
    "    batch_size=50,\n",
    "    callbacks=[earlyStopping]\n",
    ")"
   ]
  },
  {
   "cell_type": "code",
   "execution_count": 38,
   "metadata": {
    "colab": {
     "base_uri": "https://localhost:8080/"
    },
    "executionInfo": {
     "elapsed": 311,
     "status": "ok",
     "timestamp": 1622502938461,
     "user": {
      "displayName": "JOSE ANTONIO JIJON VORBECK",
      "photoUrl": "",
      "userId": "12531941878311717446"
     },
     "user_tz": -120
    },
    "id": "9KMlnqD8tU4L",
    "outputId": "ca70a581-ec57-40d3-d8ce-ab04e74d477c"
   },
   "outputs": [
    {
     "data": {
      "text/plain": [
       "6.222222222222223"
      ]
     },
     "execution_count": 38,
     "metadata": {
      "tags": []
     },
     "output_type": "execute_result"
    }
   ],
   "source": [
    "1120*2/60*10/60"
   ]
  },
  {
   "cell_type": "code",
   "execution_count": 27,
   "metadata": {
    "colab": {
     "base_uri": "https://localhost:8080/",
     "height": 297
    },
    "executionInfo": {
     "elapsed": 37163,
     "status": "ok",
     "timestamp": 1622499727456,
     "user": {
      "displayName": "JOSE ANTONIO JIJON VORBECK",
      "photoUrl": "",
      "userId": "12531941878311717446"
     },
     "user_tz": -120
    },
    "id": "KVvVOgDujppE",
    "outputId": "5691b534-b2ea-48b2-aca5-c67bb07b4fe8"
   },
   "outputs": [
    {
     "data": {
      "image/png": "[encoded data removed]",
      "text/plain": [
       "<Figure size 432x288 with 2 Axes>"
      ]
     },
     "metadata": {
      "needs_background": "light",
      "tags": []
     },
     "output_type": "display_data"
    }
   ],
   "source": [
    "plot_loss_acc(train_history.history['accuracy'], train_history.history['val_accuracy'], train_history.history['loss'], train_history.history['val_loss'])"
   ]
  },
  {
   "cell_type": "markdown",
   "metadata": {
    "id": "4cZLaeuvjppE"
   },
   "source": [
    "**Once we save the model, we can import it later for just the analysis, therefore not running the whole training process again.**"
   ]
  },
  {
   "cell_type": "code",
   "execution_count": 28,
   "metadata": {
    "executionInfo": {
     "elapsed": 5,
     "status": "ok",
     "timestamp": 1622499727456,
     "user": {
      "displayName": "JOSE ANTONIO JIJON VORBECK",
      "photoUrl": "",
      "userId": "12531941878311717446"
     },
     "user_tz": -120
    },
    "id": "K_ZzN2xfjppE"
   },
   "outputs": [],
   "source": [
    "# # Para guardar y luego volver a utilizar el model, se siguen los pasos:\n",
    "\n",
    "# # Guardar el Modelo\n",
    "# # We won't need to manually save the model, since it is done as part of the training process, when we add the callback 'saveBestModel'\n",
    "# model.save('path_to_my_model.h5')\n",
    "\n",
    "# # Recrea exactamente el mismo modelo solo desde el archivo\n",
    "# new_model = keras.models.load_model('path_to_my_model.h5')"
   ]
  },
  {
   "cell_type": "markdown",
   "metadata": {
    "id": "-Ly1ANaVjppF"
   },
   "source": [
    "### Evaluating the results of the trained model:"
   ]
  },
  {
   "cell_type": "code",
   "execution_count": 29,
   "metadata": {
    "executionInfo": {
     "elapsed": 41904,
     "status": "ok",
     "timestamp": 1622499769356,
     "user": {
      "displayName": "JOSE ANTONIO JIJON VORBECK",
      "photoUrl": "",
      "userId": "12531941878311717446"
     },
     "user_tz": -120
    },
    "id": "NsMPB66xjppF"
   },
   "outputs": [],
   "source": [
    "test_pred = model.predict(test_input)\n",
    "test_pred = test_pred.round().astype(int)"
   ]
  },
  {
   "cell_type": "code",
   "execution_count": 30,
   "metadata": {
    "executionInfo": {
     "elapsed": 23,
     "status": "ok",
     "timestamp": 1622499769365,
     "user": {
      "displayName": "JOSE ANTONIO JIJON VORBECK",
      "photoUrl": "",
      "userId": "12531941878311717446"
     },
     "user_tz": -120
    },
    "id": "oXHs86umjppF"
   },
   "outputs": [],
   "source": [
    "# computing all the metric scores of the test\n",
    "recall = metrics.recall_score(test_labels,test_pred, average='micro')\n",
    "precision = metrics.precision_score(test_labels,test_pred, average='micro')\n",
    "f1_score = metrics.f1_score(test_labels,test_pred, average='micro')\n",
    "accuracy = metrics.accuracy_score(test_labels,test_pred)\n",
    "loss = metrics.log_loss(test_labels,test_pred)"
   ]
  },
  {
   "cell_type": "code",
   "execution_count": 31,
   "metadata": {
    "colab": {
     "base_uri": "https://localhost:8080/"
    },
    "executionInfo": {
     "elapsed": 22,
     "status": "ok",
     "timestamp": 1622499769366,
     "user": {
      "displayName": "JOSE ANTONIO JIJON VORBECK",
      "photoUrl": "",
      "userId": "12531941878311717446"
     },
     "user_tz": -120
    },
    "id": "ZiKi93IsjppF",
    "outputId": "f7212652-d657-443c-98f4-f3d185afa6b2"
   },
   "outputs": [
    {
     "name": "stdout",
     "output_type": "stream",
     "text": [
      "Loss: 9.33146233659593\n",
      "Accuracy: 0.7119894598155467\n",
      "Precision: 0.7255639097744361\n",
      "Recall: 0.7119894598155467\n",
      "f1 score: 0.7187125947599414\n"
     ]
    }
   ],
   "source": [
    "# printing the results:\n",
    "print('Loss:',loss)\n",
    "print('Accuracy:',accuracy)\n",
    "print('Precision:',precision)\n",
    "print('Recall:',recall)\n",
    "print('f1 score:',f1_score)"
   ]
  },
  {
   "cell_type": "markdown",
   "metadata": {
    "id": "9byteFDrjppF"
   },
   "source": [
    "## Only missing the function with a for-loop and a random number, so that it picks a random tweet, and obtains the encoded label vector, gets the index of the max, and transforms this to the actual sentiment, relying on the previous list:\n",
    "\n",
    "`Extremely Negative`: 0\n",
    "\n",
    "`Extremely Positive`: 1\n",
    "\n",
    "`Negative`: 2\n",
    "\n",
    "`Neutral`: 3\n",
    "\n",
    "`Positive`: 4"
   ]
  },
  {
   "cell_type": "code",
   "execution_count": 39,
   "metadata": {
    "executionInfo": {
     "elapsed": 233,
     "status": "ok",
     "timestamp": 1622503128148,
     "user": {
      "displayName": "JOSE ANTONIO JIJON VORBECK",
      "photoUrl": "",
      "userId": "12531941878311717446"
     },
     "user_tz": -120
    },
    "id": "-BnI_KaHuOuq"
   },
   "outputs": [],
   "source": [
    "labels = {'Extremely Negative': 0,\n",
    "          'Extremely Positive': 1,\n",
    "          'Negative': 2,\n",
    "          'Neutral': 3,\n",
    "          'Positive': 4}"
   ]
  },
  {
   "cell_type": "code",
   "execution_count": 32,
   "metadata": {
    "executionInfo": {
     "elapsed": 20,
     "status": "ok",
     "timestamp": 1622499769367,
     "user": {
      "displayName": "JOSE ANTONIO JIJON VORBECK",
      "photoUrl": "",
      "userId": "12531941878311717446"
     },
     "user_tz": -120
    },
    "id": "iwRwXOW0jppG"
   },
   "outputs": [],
   "source": [
    "# transforming the pred vectors to its label:\n",
    "test_pred_cat = np.zeros(test_pred.shape[0],)\n",
    "test_labels_cat = np.zeros(test_pred.shape[0],)\n",
    "for i in range(0,test_pred.shape[0],1):\n",
    "  test_pred_cat[i] = test_pred[i].argmax()\n",
    "  test_labels_cat[i] = test_labels[i].argmax()\n",
    "\n",
    "test_pred_cat = test_pred_cat.astype(int)\n",
    "test_labels_cat = test_labels_cat.astype(int)"
   ]
  },
  {
   "cell_type": "code",
   "execution_count": 40,
   "metadata": {
    "colab": {
     "base_uri": "https://localhost:8080/",
     "height": 694
    },
    "executionInfo": {
     "elapsed": 326,
     "status": "ok",
     "timestamp": 1622503134879,
     "user": {
      "displayName": "JOSE ANTONIO JIJON VORBECK",
      "photoUrl": "",
      "userId": "12531941878311717446"
     },
     "user_tz": -120
    },
    "id": "AufkyR6LjppG",
    "outputId": "206b380a-6b59-433b-8071-5b619c40ccdf"
   },
   "outputs": [
    {
     "data": {
      "image/png": "[encoded data removed]",
      "text/plain": [
       "<Figure size 720x720 with 2 Axes>"
      ]
     },
     "metadata": {
      "needs_background": "light",
      "tags": []
     },
     "output_type": "display_data"
    }
   ],
   "source": [
    "# confusion matrix\n",
    "\n",
    "conf_mat = confusion_matrix(test_labels_cat, test_pred_cat)\n",
    "fig, ax = plt.subplots(figsize=(10,10))\n",
    "sns.heatmap(conf_mat, annot=True, fmt='d',\n",
    "            xticklabels=labels.keys(), yticklabels=labels.keys())\n",
    "plt.ylabel('Actual')\n",
    "plt.xlabel('Predicted')\n",
    "plt.show()"
   ]
  },
  {
   "cell_type": "code",
   "execution_count": 43,
   "metadata": {
    "colab": {
     "base_uri": "https://localhost:8080/"
    },
    "executionInfo": {
     "elapsed": 308,
     "status": "ok",
     "timestamp": 1622503174601,
     "user": {
      "displayName": "JOSE ANTONIO JIJON VORBECK",
      "photoUrl": "",
      "userId": "12531941878311717446"
     },
     "user_tz": -120
    },
    "id": "ZxdDRBg9jppG",
    "outputId": "a22ce5fe-e752-4791-fe35-d33e128b7915"
   },
   "outputs": [
    {
     "name": "stdout",
     "output_type": "stream",
     "text": [
      "                    precision    recall  f1-score   support\n",
      "\n",
      "Extremely Negative       0.66      0.76      0.71       592\n",
      "Extremely Positive       0.79      0.73      0.76       599\n",
      "          Negative       0.67      0.68      0.68      1041\n",
      "           Neutral       0.81      0.76      0.78       616\n",
      "          Positive       0.69      0.67      0.68       947\n",
      "\n",
      "          accuracy                           0.71      3795\n",
      "         macro avg       0.72      0.72      0.72      3795\n",
      "      weighted avg       0.72      0.71      0.71      3795\n",
      "\n"
     ]
    }
   ],
   "source": [
    "print(classification_report(test_labels_cat, test_pred_cat, target_names= labels.keys()))"
   ]
  },
  {
   "cell_type": "code",
   "execution_count": 35,
   "metadata": {
    "executionInfo": {
     "elapsed": 6143,
     "status": "ok",
     "timestamp": 1622502699349,
     "user": {
      "displayName": "JOSE ANTONIO JIJON VORBECK",
      "photoUrl": "",
      "userId": "12531941878311717446"
     },
     "user_tz": -120
    },
    "id": "4HZceCIsmDDk"
   },
   "outputs": [],
   "source": [
    "model.save('BERT_model.hdf5')"
   ]
  },
  {
   "cell_type": "code",
   "execution_count": null,
   "metadata": {
    "executionInfo": {
     "elapsed": 398,
     "status": "aborted",
     "timestamp": 1622499769752,
     "user": {
      "displayName": "JOSE ANTONIO JIJON VORBECK",
      "photoUrl": "",
      "userId": "12531941878311717446"
     },
     "user_tz": -120
    },
    "id": "rROPt3PQmGgk"
   },
   "outputs": [],
   "source": []
  }
 ],
 "metadata": {
  "accelerator": "GPU",
  "colab": {
   "collapsed_sections": [],
   "name": "BERT_model.ipynb",
   "provenance": [],
   "toc_visible": true
  },
  "kernelspec": {
   "display_name": "Python [conda env:py3-TF2.0]",
   "language": "python",
   "name": "conda-env-py3-TF2.0-py"
  },
  "language_info": {
   "codemirror_mode": {
    "name": "ipython",
    "version": 3
   },
   "file_extension": ".py",
   "mimetype": "text/x-python",
   "name": "python",
   "nbconvert_exporter": "python",
   "pygments_lexer": "ipython3",
   "version": "3.7.7"
  },
  "metadata": {
   "interpreter": {
    "hash": "0b6db1c9eb42b02ddde262e91131b34b8bc0f19661aef4215bc059af74454cb9"
   }
  }
 },
 "nbformat": 4,
 "nbformat_minor": 4
}
