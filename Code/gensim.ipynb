{
 "metadata": {
  "language_info": {
   "codemirror_mode": {
    "name": "ipython",
    "version": 3
   },
   "file_extension": ".py",
   "mimetype": "text/x-python",
   "name": "python",
   "nbconvert_exporter": "python",
   "pygments_lexer": "ipython3",
   "version": "3.7.4"
  },
  "orig_nbformat": 2,
  "kernelspec": {
   "name": "python374jvsc74a57bd0dca0ade3e726a953b501b15e8e990130d2b7799f14cfd9f4271676035ebe5511",
   "display_name": "Python 3.7.4 64-bit ('base': conda)"
  }
 },
 "nbformat": 4,
 "nbformat_minor": 2,
 "cells": [
  {
   "source": [
    "# working with gensim tf-idf model"
   ],
   "cell_type": "markdown",
   "metadata": {}
  },
  {
   "cell_type": "code",
   "execution_count": 10,
   "metadata": {},
   "outputs": [],
   "source": [
    "import numpy as np\n",
    "import pandas as pd\n",
    "import matplotlib.pyplot as plt\n",
    "import math\n",
    "\n",
    "# gensim\n",
    "import gensim\n",
    "from gensim.models import TfidfModel\n",
    "from gensim.corpora import Dictionary\n",
    "\n",
    "from sklearn.svm import SVC\n",
    "from sklearn.svm import LinearSVC\n",
    "from sklearn.pipeline import Pipeline\n",
    "from sklearn.decomposition import PCA\n",
    "from sklearn.linear_model import LogisticRegression\n",
    "\n",
    "from sklearn.feature_extraction.text import CountVectorizer\n",
    "from sklearn.feature_extraction.text import TfidfTransformer\n",
    "\n",
    "from sklearn.model_selection import GridSearchCV, RandomizedSearchCV, cross_val_score\n",
    "from sklearn.decomposition import PCA, KernelPCA\n",
    "from sklearn.discriminant_analysis import LinearDiscriminantAnalysis as LDA\n",
    "from sklearn.metrics import accuracy_score\n",
    "\n",
    "import optuna\n",
    "import xgboost as xgb\n",
    "\n",
    "import warnings\n",
    "warnings.filterwarnings(\"ignore\")"
   ]
  },
  {
   "cell_type": "code",
   "execution_count": 2,
   "metadata": {},
   "outputs": [],
   "source": [
    "train_data = pd.read_csv('Data/TweetC_train.csv')\n",
    "test_data = pd.read_csv('Data/TweetC_test.csv')"
   ]
  },
  {
   "cell_type": "code",
   "execution_count": 23,
   "metadata": {},
   "outputs": [],
   "source": [
    "# dropping indexes with nan\n",
    "\n",
    "# training set\n",
    "index_with_nan = train_data.index[train_data.isnull().any(axis=1)]\n",
    "train_data.drop(index_with_nan,0, inplace=True)\n",
    "\n",
    "# testing set\n",
    "index_with_nan = test_data.index[test_data.isnull().any(axis=1)]\n",
    "test_data.drop(index_with_nan,0, inplace=True)"
   ]
  },
  {
   "cell_type": "code",
   "execution_count": 24,
   "metadata": {},
   "outputs": [
    {
     "output_type": "execute_result",
     "data": {
      "text/plain": [
       "(Tweet                0\n",
       " Sentiment_encoded    0\n",
       " dtype: int64, Tweet                0\n",
       " Sentiment_encoded    0\n",
       " dtype: int64)"
      ]
     },
     "metadata": {},
     "execution_count": 24
    }
   ],
   "source": [
    "# we have no nans left\n",
    "pd.isna(train_data).sum(), pd.isna(test_data).sum()"
   ]
  },
  {
   "cell_type": "code",
   "execution_count": 25,
   "metadata": {},
   "outputs": [],
   "source": [
    "# text\n",
    "X_train = train_data.iloc[:,0].copy().to_numpy()\n",
    "X_test = test_data.iloc[:,0].copy().to_numpy()\n",
    "\n",
    "# labels\n",
    "y_train = train_data.iloc[:,1].copy().to_numpy()\n",
    "y_test = test_data.iloc[:,1].copy().to_numpy()\n",
    "\n",
    "y_train = y_train.astype('int')\n",
    "y_test = y_test.astype('int')"
   ]
  },
  {
   "cell_type": "code",
   "execution_count": 26,
   "metadata": {},
   "outputs": [
    {
     "output_type": "execute_result",
     "data": {
      "text/plain": [
       "((41087,), (3795,))"
      ]
     },
     "metadata": {},
     "execution_count": 26
    }
   ],
   "source": [
    "X_train.shape, X_test.shape"
   ]
  },
  {
   "cell_type": "code",
   "execution_count": 27,
   "metadata": {},
   "outputs": [
    {
     "output_type": "execute_result",
     "data": {
      "text/plain": [
       "((41087,), (3795,))"
      ]
     },
     "metadata": {},
     "execution_count": 27
    }
   ],
   "source": [
    "y_train.shape, y_test.shape"
   ]
  },
  {
   "cell_type": "code",
   "execution_count": 35,
   "metadata": {},
   "outputs": [],
   "source": [
    "texts = []\n",
    "for i in range(0,len(X_train)-1):\n",
    "    texts.append(X_train[i])"
   ]
  },
  {
   "cell_type": "code",
   "execution_count": 30,
   "metadata": {},
   "outputs": [
    {
     "output_type": "execute_result",
     "data": {
      "text/plain": [
       "(41087, 33302)"
      ]
     },
     "metadata": {},
     "execution_count": 30
    }
   ],
   "source": [
    "vectorizer = CountVectorizer()\n",
    "corpus = vectorizer.fit_transform(X_train)\n",
    "corpus.shape"
   ]
  },
  {
   "cell_type": "code",
   "execution_count": 38,
   "metadata": {},
   "outputs": [],
   "source": [
    "# merge all tweets in a single list\n",
    "texts = []\n",
    "for i in range(0,len(X_train)-1):\n",
    "    texts.append(X_train[i])\n",
    "\n",
    "# get the tokens of all sentences\n",
    "tokenlist = [list(gensim.utils.tokenize(text)) for text in texts]\n",
    "# generate the dictionary\n",
    "dct = Dictionary(tokenlist)\n",
    "# generate the corpus\n",
    "corpus = [dct.doc2bow(tokens) for tokens in tokenlist]"
   ]
  },
  {
   "cell_type": "code",
   "execution_count": 43,
   "metadata": {},
   "outputs": [],
   "source": [
    "# store the corpus\n",
    "gensim.corpora.MmCorpus.serialize('MmCorpusX_train.mm', corpus)"
   ]
  },
  {
   "cell_type": "code",
   "execution_count": 44,
   "metadata": {},
   "outputs": [],
   "source": [
    "# making the tf-idf model\n",
    "model = TfidfModel(corpus)"
   ]
  },
  {
   "cell_type": "code",
   "execution_count": 46,
   "metadata": {},
   "outputs": [
    {
     "output_type": "execute_result",
     "data": {
      "text/plain": [
       "gensim.models.tfidfmodel.TfidfModel"
      ]
     },
     "metadata": {},
     "execution_count": 46
    }
   ],
   "source": [
    "type(model)"
   ]
  },
  {
   "cell_type": "code",
   "execution_count": 57,
   "metadata": {},
   "outputs": [
    {
     "output_type": "execute_result",
     "data": {
      "text/plain": [
       "[(22, 0.23691962853679044),\n",
       " (36, 0.16736304584915723),\n",
       " (63, 0.13725881458476175),\n",
       " (74, 0.11683128897030148),\n",
       " (79, 0.11064318586811944),\n",
       " (96, 0.23447267793894958),\n",
       " (518, 0.2757827529686226),\n",
       " (527, 0.2233611463320063),\n",
       " (553, 0.2526657153078757),\n",
       " (581, 0.24205233807916016),\n",
       " (607, 0.31252331207397993),\n",
       " (822, 0.2689553853641071),\n",
       " (839, 0.23572076468202013),\n",
       " (881, 0.425938178796318),\n",
       " (882, 0.24848568849599065),\n",
       " (883, 0.3146960788065133)]"
      ]
     },
     "metadata": {},
     "execution_count": 57
    }
   ],
   "source": [
    "vector = model[corpus[100]]\n",
    "vector"
   ]
  },
  {
   "cell_type": "code",
   "execution_count": 58,
   "metadata": {},
   "outputs": [],
   "source": [
    "tfidf_matrix = [model[corpus[i]] for i in range(0,len(X_train)-1)]"
   ]
  },
  {
   "cell_type": "code",
   "execution_count": null,
   "metadata": {},
   "outputs": [],
   "source": []
  }
 ]
}